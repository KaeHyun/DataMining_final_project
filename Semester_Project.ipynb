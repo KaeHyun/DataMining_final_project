{
 "cells": [
  {
   "cell_type": "markdown",
   "metadata": {
    "id": "dT5tTXB4pQgH"
   },
   "source": [
    "# CSCI-B365 Semester Project \n",
    "#### Dohyun Kim, Kaehyun Um\n",
    "###### Datasets\n",
    "*   Spaceship Titanic: Predict which passengers are transported to an alternate dimension\n",
    "*   House Prices: Predict Sales prices\n",
    "\n",
    "\n"
   ]
  },
  {
   "cell_type": "code",
   "execution_count": 5,
   "metadata": {
    "colab": {
     "base_uri": "https://localhost:8080/"
    },
    "id": "BsDEXdw6q04Q",
    "outputId": "3846d670-2c15-46ef-c1c3-8cb52cf1f2c5"
   },
   "outputs": [
    {
     "name": "stdout",
     "output_type": "stream",
     "text": [
      "Mounted at /content/gdrive\n"
     ]
    }
   ],
   "source": [
    "from google.colab import drive\n",
    "drive.mount('/content/gdrive')"
   ]
  },
  {
   "cell_type": "code",
   "execution_count": 6,
   "metadata": {
    "id": "328egqmNloHi"
   },
   "outputs": [],
   "source": [
    "import numpy as np\n",
    "import pandas as pd\n",
    "import matplotlib.pyplot as plt\n",
    "import seaborn as sns\n",
    "import time"
   ]
  },
  {
   "cell_type": "markdown",
   "metadata": {
    "id": "EP55QRbLu90H"
   },
   "source": [
    "### **1. Problem and Data Description**\n",
    "\n"
   ]
  },
  {
   "cell_type": "markdown",
   "metadata": {
    "id": "gePGRNlwwe8s"
   },
   "source": [
    "####1-1. Spaceship Titanic\n",
    "\n",
    "This problem assumes that a spacecraft, named Titanic, carrying passengers has a problem while sailing in the very distant future. With this data set, we need to figure out which passengers were transported by the anomaly."
   ]
  },
  {
   "cell_type": "markdown",
   "metadata": {
    "id": "8geZ-7Y8vYZ9"
   },
   "source": [
    "\n",
    "\n",
    "\n",
    "\n",
    "**Read data : train.csv**\n",
    "\n",
    "* PassengerId - A unique Id for each passenger. Each Id takes the form gggg_pp where gggg indicates a group the passenger is travelling with and pp is their number within the group. People in a group are often family members, but not always.\n",
    "* HomePlanet - The planet the passenger departed from, typically their planet of permanent residence.\n",
    "* CryoSleep - Indicates whether the passenger elected to be put into suspended animation for the duration of the voyage. Passengers in cryosleep are confined to their cabins.\n",
    "* Cabin - The cabin number where the passenger is staying. Takes the form deck/num/side, where side can be either P for Port or S for Starboard.\n",
    "* Destination - The planet the passenger will be debarking to.\n",
    "* Age - The age of the passenger.\n",
    "* VIP - Whether the passenger has paid for special VIP service during the voyage.\n",
    "* RoomService, FoodCourt, ShoppingMall, Spa, VRDeck - Amount the passenger has billed at each of the Spaceship Titanic's many luxury amenities.\n",
    "* Name - The first and last names of the passenger.\n",
    "* Transported - Whether the passenger was transported to another dimension. This is the target"
   ]
  },
  {
   "cell_type": "markdown",
   "metadata": {
    "id": "5G-mV4lPw3AH"
   },
   "source": [
    "####1-2. House Prices\n",
    "\n",
    "The problem with this data is predicting the sales price of each house. You can predict the value of the SalePrice for each ID. This data contains many things that homebuyers are curious about. For example, the quality and area of the garage were built in what year."
   ]
  },
  {
   "cell_type": "markdown",
   "metadata": {
    "id": "t1c8aqoaxDO8"
   },
   "source": [
    "**Read data: train.csv**\n",
    "\n",
    "*   SalePrice: the property's sale price in dollars. This is the target variable that you're trying to predict.\n",
    "*   LotArea: Lot size in square feet\n",
    "*   OverallCond: Overall condition rating\n",
    "*   YearBuilt: Original construction date\n",
    "*   YearRemodAdd: Remodel date\n",
    "*   ExterCond: Present condition of the material on the exterior\n",
    "*   BsmtCond: General condition of the basement\n",
    "*   HeatingQC: Heating quality and condition\n",
    "*   1stFlrSF: First Floor square feet\n",
    "*   2ndFlrSF: Second floor square feet\n",
    "*   GarageCond: Garage condition\n",
    "\n",
    "\n",
    "\n",
    "\n",
    "\n",
    "\n",
    "\n",
    "\n",
    "\n",
    "\n",
    "\n"
   ]
  },
  {
   "cell_type": "markdown",
   "metadata": {
    "id": "efjyDVhtwsxi"
   },
   "source": [
    "### **2. Data Processing & Exploratory Data Analysis**\n",
    "#### 2-1. Spaceship Titanic\n",
    "\n",
    "- Predict  which  passengers  are  transported  to  an \n",
    "alternate dimension. "
   ]
  },
  {
   "cell_type": "markdown",
   "metadata": {
    "id": "GI9RPd_t2Y-M"
   },
   "source": [
    "**Handling the missing values**\n",
    "\n",
    "We will just drop the missing values of HomePlanet, CryoSleep,Cabin, Destination, VIP, and Name to 0. Because if there is no value, it means that this data is not important for analysis. But for Age, RoomService, FoodCourt, ShoppingMall, Spa, and VRDeck, we would replace missing values with the average of each variables."
   ]
  },
  {
   "cell_type": "code",
   "execution_count": 7,
   "metadata": {
    "colab": {
     "base_uri": "https://localhost:8080/",
     "height": 0
    },
    "id": "s8mWFuS4tgOI",
    "outputId": "45826615-060d-49f1-caca-d0916354a7c4"
   },
   "outputs": [
    {
     "data": {
      "text/html": [
       "\n",
       "  <div id=\"df-39dcbc59-85b9-432c-b75b-3e8719547990\">\n",
       "    <div class=\"colab-df-container\">\n",
       "      <div>\n",
       "<style scoped>\n",
       "    .dataframe tbody tr th:only-of-type {\n",
       "        vertical-align: middle;\n",
       "    }\n",
       "\n",
       "    .dataframe tbody tr th {\n",
       "        vertical-align: top;\n",
       "    }\n",
       "\n",
       "    .dataframe thead th {\n",
       "        text-align: right;\n",
       "    }\n",
       "</style>\n",
       "<table border=\"1\" class=\"dataframe\">\n",
       "  <thead>\n",
       "    <tr style=\"text-align: right;\">\n",
       "      <th></th>\n",
       "      <th>PassengerId</th>\n",
       "      <th>HomePlanet</th>\n",
       "      <th>CryoSleep</th>\n",
       "      <th>Cabin</th>\n",
       "      <th>Destination</th>\n",
       "      <th>Age</th>\n",
       "      <th>VIP</th>\n",
       "      <th>RoomService</th>\n",
       "      <th>FoodCourt</th>\n",
       "      <th>ShoppingMall</th>\n",
       "      <th>Spa</th>\n",
       "      <th>VRDeck</th>\n",
       "      <th>Name</th>\n",
       "      <th>Transported</th>\n",
       "    </tr>\n",
       "  </thead>\n",
       "  <tbody>\n",
       "    <tr>\n",
       "      <th>0</th>\n",
       "      <td>0001_01</td>\n",
       "      <td>Europa</td>\n",
       "      <td>False</td>\n",
       "      <td>B/0/P</td>\n",
       "      <td>TRAPPIST-1e</td>\n",
       "      <td>39.0</td>\n",
       "      <td>False</td>\n",
       "      <td>0.0</td>\n",
       "      <td>0.0</td>\n",
       "      <td>0.0</td>\n",
       "      <td>0.0</td>\n",
       "      <td>0.0</td>\n",
       "      <td>Maham Ofracculy</td>\n",
       "      <td>False</td>\n",
       "    </tr>\n",
       "    <tr>\n",
       "      <th>1</th>\n",
       "      <td>0002_01</td>\n",
       "      <td>Earth</td>\n",
       "      <td>False</td>\n",
       "      <td>F/0/S</td>\n",
       "      <td>TRAPPIST-1e</td>\n",
       "      <td>24.0</td>\n",
       "      <td>False</td>\n",
       "      <td>109.0</td>\n",
       "      <td>9.0</td>\n",
       "      <td>25.0</td>\n",
       "      <td>549.0</td>\n",
       "      <td>44.0</td>\n",
       "      <td>Juanna Vines</td>\n",
       "      <td>True</td>\n",
       "    </tr>\n",
       "    <tr>\n",
       "      <th>2</th>\n",
       "      <td>0003_01</td>\n",
       "      <td>Europa</td>\n",
       "      <td>False</td>\n",
       "      <td>A/0/S</td>\n",
       "      <td>TRAPPIST-1e</td>\n",
       "      <td>58.0</td>\n",
       "      <td>True</td>\n",
       "      <td>43.0</td>\n",
       "      <td>3576.0</td>\n",
       "      <td>0.0</td>\n",
       "      <td>6715.0</td>\n",
       "      <td>49.0</td>\n",
       "      <td>Altark Susent</td>\n",
       "      <td>False</td>\n",
       "    </tr>\n",
       "    <tr>\n",
       "      <th>3</th>\n",
       "      <td>0003_02</td>\n",
       "      <td>Europa</td>\n",
       "      <td>False</td>\n",
       "      <td>A/0/S</td>\n",
       "      <td>TRAPPIST-1e</td>\n",
       "      <td>33.0</td>\n",
       "      <td>False</td>\n",
       "      <td>0.0</td>\n",
       "      <td>1283.0</td>\n",
       "      <td>371.0</td>\n",
       "      <td>3329.0</td>\n",
       "      <td>193.0</td>\n",
       "      <td>Solam Susent</td>\n",
       "      <td>False</td>\n",
       "    </tr>\n",
       "    <tr>\n",
       "      <th>4</th>\n",
       "      <td>0004_01</td>\n",
       "      <td>Earth</td>\n",
       "      <td>False</td>\n",
       "      <td>F/1/S</td>\n",
       "      <td>TRAPPIST-1e</td>\n",
       "      <td>16.0</td>\n",
       "      <td>False</td>\n",
       "      <td>303.0</td>\n",
       "      <td>70.0</td>\n",
       "      <td>151.0</td>\n",
       "      <td>565.0</td>\n",
       "      <td>2.0</td>\n",
       "      <td>Willy Santantines</td>\n",
       "      <td>True</td>\n",
       "    </tr>\n",
       "  </tbody>\n",
       "</table>\n",
       "</div>\n",
       "      <button class=\"colab-df-convert\" onclick=\"convertToInteractive('df-39dcbc59-85b9-432c-b75b-3e8719547990')\"\n",
       "              title=\"Convert this dataframe to an interactive table.\"\n",
       "              style=\"display:none;\">\n",
       "        \n",
       "  <svg xmlns=\"http://www.w3.org/2000/svg\" height=\"24px\"viewBox=\"0 0 24 24\"\n",
       "       width=\"24px\">\n",
       "    <path d=\"M0 0h24v24H0V0z\" fill=\"none\"/>\n",
       "    <path d=\"M18.56 5.44l.94 2.06.94-2.06 2.06-.94-2.06-.94-.94-2.06-.94 2.06-2.06.94zm-11 1L8.5 8.5l.94-2.06 2.06-.94-2.06-.94L8.5 2.5l-.94 2.06-2.06.94zm10 10l.94 2.06.94-2.06 2.06-.94-2.06-.94-.94-2.06-.94 2.06-2.06.94z\"/><path d=\"M17.41 7.96l-1.37-1.37c-.4-.4-.92-.59-1.43-.59-.52 0-1.04.2-1.43.59L10.3 9.45l-7.72 7.72c-.78.78-.78 2.05 0 2.83L4 21.41c.39.39.9.59 1.41.59.51 0 1.02-.2 1.41-.59l7.78-7.78 2.81-2.81c.8-.78.8-2.07 0-2.86zM5.41 20L4 18.59l7.72-7.72 1.47 1.35L5.41 20z\"/>\n",
       "  </svg>\n",
       "      </button>\n",
       "      \n",
       "  <style>\n",
       "    .colab-df-container {\n",
       "      display:flex;\n",
       "      flex-wrap:wrap;\n",
       "      gap: 12px;\n",
       "    }\n",
       "\n",
       "    .colab-df-convert {\n",
       "      background-color: #E8F0FE;\n",
       "      border: none;\n",
       "      border-radius: 50%;\n",
       "      cursor: pointer;\n",
       "      display: none;\n",
       "      fill: #1967D2;\n",
       "      height: 32px;\n",
       "      padding: 0 0 0 0;\n",
       "      width: 32px;\n",
       "    }\n",
       "\n",
       "    .colab-df-convert:hover {\n",
       "      background-color: #E2EBFA;\n",
       "      box-shadow: 0px 1px 2px rgba(60, 64, 67, 0.3), 0px 1px 3px 1px rgba(60, 64, 67, 0.15);\n",
       "      fill: #174EA6;\n",
       "    }\n",
       "\n",
       "    [theme=dark] .colab-df-convert {\n",
       "      background-color: #3B4455;\n",
       "      fill: #D2E3FC;\n",
       "    }\n",
       "\n",
       "    [theme=dark] .colab-df-convert:hover {\n",
       "      background-color: #434B5C;\n",
       "      box-shadow: 0px 1px 3px 1px rgba(0, 0, 0, 0.15);\n",
       "      filter: drop-shadow(0px 1px 2px rgba(0, 0, 0, 0.3));\n",
       "      fill: #FFFFFF;\n",
       "    }\n",
       "  </style>\n",
       "\n",
       "      <script>\n",
       "        const buttonEl =\n",
       "          document.querySelector('#df-39dcbc59-85b9-432c-b75b-3e8719547990 button.colab-df-convert');\n",
       "        buttonEl.style.display =\n",
       "          google.colab.kernel.accessAllowed ? 'block' : 'none';\n",
       "\n",
       "        async function convertToInteractive(key) {\n",
       "          const element = document.querySelector('#df-39dcbc59-85b9-432c-b75b-3e8719547990');\n",
       "          const dataTable =\n",
       "            await google.colab.kernel.invokeFunction('convertToInteractive',\n",
       "                                                     [key], {});\n",
       "          if (!dataTable) return;\n",
       "\n",
       "          const docLinkHtml = 'Like what you see? Visit the ' +\n",
       "            '<a target=\"_blank\" href=https://colab.research.google.com/notebooks/data_table.ipynb>data table notebook</a>'\n",
       "            + ' to learn more about interactive tables.';\n",
       "          element.innerHTML = '';\n",
       "          dataTable['output_type'] = 'display_data';\n",
       "          await google.colab.output.renderOutput(dataTable, element);\n",
       "          const docLink = document.createElement('div');\n",
       "          docLink.innerHTML = docLinkHtml;\n",
       "          element.appendChild(docLink);\n",
       "        }\n",
       "      </script>\n",
       "    </div>\n",
       "  </div>\n",
       "  "
      ],
      "text/plain": [
       "  PassengerId HomePlanet CryoSleep  Cabin  Destination   Age    VIP  \\\n",
       "0     0001_01     Europa     False  B/0/P  TRAPPIST-1e  39.0  False   \n",
       "1     0002_01      Earth     False  F/0/S  TRAPPIST-1e  24.0  False   \n",
       "2     0003_01     Europa     False  A/0/S  TRAPPIST-1e  58.0   True   \n",
       "3     0003_02     Europa     False  A/0/S  TRAPPIST-1e  33.0  False   \n",
       "4     0004_01      Earth     False  F/1/S  TRAPPIST-1e  16.0  False   \n",
       "\n",
       "   RoomService  FoodCourt  ShoppingMall     Spa  VRDeck               Name  \\\n",
       "0          0.0        0.0           0.0     0.0     0.0    Maham Ofracculy   \n",
       "1        109.0        9.0          25.0   549.0    44.0       Juanna Vines   \n",
       "2         43.0     3576.0           0.0  6715.0    49.0      Altark Susent   \n",
       "3          0.0     1283.0         371.0  3329.0   193.0       Solam Susent   \n",
       "4        303.0       70.0         151.0   565.0     2.0  Willy Santantines   \n",
       "\n",
       "   Transported  \n",
       "0        False  \n",
       "1         True  \n",
       "2        False  \n",
       "3        False  \n",
       "4         True  "
      ]
     },
     "execution_count": 7,
     "metadata": {},
     "output_type": "execute_result"
    }
   ],
   "source": [
    "titanic_train = pd.read_csv(\"/content/gdrive/My Drive/SemesterProject_data/titanic/train.csv\")\n",
    "titanic_train.head()"
   ]
  },
  {
   "cell_type": "code",
   "execution_count": 8,
   "metadata": {
    "colab": {
     "base_uri": "https://localhost:8080/"
    },
    "id": "-3BdPuNiuEBy",
    "outputId": "89b4140c-767b-4b6c-bd89-edc729b1b5d8"
   },
   "outputs": [
    {
     "data": {
      "text/plain": [
       "PassengerId       0\n",
       "HomePlanet      201\n",
       "CryoSleep       217\n",
       "Cabin           199\n",
       "Destination     182\n",
       "Age             179\n",
       "VIP             203\n",
       "RoomService     181\n",
       "FoodCourt       183\n",
       "ShoppingMall    208\n",
       "Spa             183\n",
       "VRDeck          188\n",
       "Name            200\n",
       "Transported       0\n",
       "dtype: int64"
      ]
     },
     "execution_count": 8,
     "metadata": {},
     "output_type": "execute_result"
    }
   ],
   "source": [
    "titanic_train.isnull().sum()"
   ]
  },
  {
   "cell_type": "code",
   "execution_count": 9,
   "metadata": {
    "id": "3WZi3sXdz3j2"
   },
   "outputs": [],
   "source": [
    "# 얘네는 안 써있으면 버리는게 맞는걸로 판단\n",
    "titanic_train = titanic_train.dropna(subset=['HomePlanet'])\n",
    "titanic_train = titanic_train.dropna(subset=['CryoSleep'])\n",
    "titanic_train = titanic_train.dropna(subset=['Cabin'])\n",
    "titanic_train = titanic_train.dropna(subset=['Destination'])\n",
    "titanic_train = titanic_train.dropna(subset=['VIP'])\n",
    "titanic_train = titanic_train.dropna(subset=['Name'])"
   ]
  },
  {
   "cell_type": "code",
   "execution_count": 10,
   "metadata": {
    "id": "4hQYwzD51hP3"
   },
   "outputs": [],
   "source": [
    "#얘네는 가격과 관련된 애들이라서 일단 평균으로 채워버리기\n",
    "titanic_train.Age = titanic_train.Age.fillna(round(titanic_train['Age'].mean(),2))\n",
    "titanic_train.RoomService = titanic_train.RoomService.fillna(round(titanic_train['RoomService'].mean(),2))\n",
    "titanic_train.ShoppingMall = titanic_train.ShoppingMall.fillna(round(titanic_train['ShoppingMall'].mean(),2))\n",
    "titanic_train.FoodCourt = titanic_train.FoodCourt.fillna(round(titanic_train['FoodCourt'].mean(),2))\n",
    "titanic_train.Spa = titanic_train.Spa.fillna(round(titanic_train['Spa'].mean(),2))\n",
    "titanic_train.VRDeck = titanic_train.VRDeck.fillna(round(titanic_train['VRDeck'].mean(),2))"
   ]
  },
  {
   "cell_type": "code",
   "execution_count": 11,
   "metadata": {
    "colab": {
     "base_uri": "https://localhost:8080/"
    },
    "id": "ICrptd37uMz0",
    "outputId": "1fb2957c-9643-43bf-a3f3-bf571b25a77f"
   },
   "outputs": [
    {
     "data": {
      "text/plain": [
       "PassengerId     0\n",
       "HomePlanet      0\n",
       "CryoSleep       0\n",
       "Cabin           0\n",
       "Destination     0\n",
       "Age             0\n",
       "VIP             0\n",
       "RoomService     0\n",
       "FoodCourt       0\n",
       "ShoppingMall    0\n",
       "Spa             0\n",
       "VRDeck          0\n",
       "Name            0\n",
       "Transported     0\n",
       "dtype: int64"
      ]
     },
     "execution_count": 11,
     "metadata": {},
     "output_type": "execute_result"
    }
   ],
   "source": [
    "titanic_train.isnull().sum()"
   ]
  },
  {
   "cell_type": "markdown",
   "metadata": {
    "id": "1S0gN3_jfdrE"
   },
   "source": [
    "**Exploratory Data Analysis**  \n",
    "　　(1) Overview the data\n"
   ]
  },
  {
   "cell_type": "code",
   "execution_count": 12,
   "metadata": {
    "colab": {
     "base_uri": "https://localhost:8080/",
     "height": 0
    },
    "id": "7mJY1dS9p88N",
    "outputId": "d071ef40-ce5a-49e5-a26a-a35f742d81fc"
   },
   "outputs": [
    {
     "data": {
      "text/html": [
       "<style type=\"text/css\">\n",
       "#T_332d5_row0_col0 {\n",
       "  background-color: #fdcdac;\n",
       "  color: #000000;\n",
       "  width: 10em;\n",
       "  height: 80%;\n",
       "  background: linear-gradient(90deg,lightpink 6.2%, transparent 6.2%);\n",
       "}\n",
       "#T_332d5_row0_col1 {\n",
       "  background-color: #b3e2cd;\n",
       "  color: #000000;\n",
       "  width: 10em;\n",
       "  height: 80%;\n",
       "  background: linear-gradient(90deg,lightpink 0.9%, transparent 0.9%);\n",
       "}\n",
       "#T_332d5_row0_col2, #T_332d5_row0_col3, #T_332d5_row1_col2, #T_332d5_row1_col3, #T_332d5_row1_col4, #T_332d5_row2_col2, #T_332d5_row2_col3, #T_332d5_row2_col4, #T_332d5_row3_col2, #T_332d5_row3_col3, #T_332d5_row3_col4, #T_332d5_row4_col2, #T_332d5_row4_col3, #T_332d5_row4_col4, #T_332d5_row5_col2, #T_332d5_row5_col3, #T_332d5_row5_col4 {\n",
       "  background-color: #b3e2cd;\n",
       "  color: #000000;\n",
       "}\n",
       "#T_332d5_row0_col4, #T_332d5_row0_col5 {\n",
       "  background-color: #fdcdac;\n",
       "  color: #000000;\n",
       "}\n",
       "#T_332d5_row0_col6 {\n",
       "  background-color: #f4cae4;\n",
       "  color: #000000;\n",
       "  width: 10em;\n",
       "  height: 80%;\n",
       "  background: linear-gradient(90deg,lightpink 0.3%, transparent 0.3%);\n",
       "}\n",
       "#T_332d5_row1_col0 {\n",
       "  background-color: #cccccc;\n",
       "  color: #000000;\n",
       "  width: 10em;\n",
       "  height: 80%;\n",
       "  background: linear-gradient(90deg,lightpink 47.6%, transparent 47.6%);\n",
       "}\n",
       "#T_332d5_row1_col1 {\n",
       "  background-color: #cccccc;\n",
       "  color: #000000;\n",
       "  width: 10em;\n",
       "  height: 80%;\n",
       "  background: linear-gradient(90deg,lightpink 38.8%, transparent 38.8%);\n",
       "}\n",
       "#T_332d5_row1_col5, #T_332d5_row5_col5 {\n",
       "  background-color: #f4cae4;\n",
       "  color: #000000;\n",
       "}\n",
       "#T_332d5_row1_col6 {\n",
       "  background-color: #cccccc;\n",
       "  color: #000000;\n",
       "  width: 10em;\n",
       "  height: 80%;\n",
       "  background: linear-gradient(90deg,lightpink 33.3%, transparent 33.3%);\n",
       "}\n",
       "#T_332d5_row2_col0, #T_332d5_row2_col1, #T_332d5_row2_col6 {\n",
       "  background-color: #cccccc;\n",
       "  color: #000000;\n",
       "  width: 10em;\n",
       "  height: 80%;\n",
       "  background: linear-gradient(90deg,lightpink 100.0%, transparent 100.0%);\n",
       "}\n",
       "#T_332d5_row2_col5 {\n",
       "  background-color: #fff2ae;\n",
       "  color: #000000;\n",
       "}\n",
       "#T_332d5_row3_col0 {\n",
       "  background-color: #cccccc;\n",
       "  color: #000000;\n",
       "  width: 10em;\n",
       "  height: 80%;\n",
       "  background: linear-gradient(90deg,lightpink 38.1%, transparent 38.1%);\n",
       "}\n",
       "#T_332d5_row3_col1 {\n",
       "  background-color: #cccccc;\n",
       "  color: #000000;\n",
       "  width: 10em;\n",
       "  height: 80%;\n",
       "  background: linear-gradient(90deg,lightpink 34.5%, transparent 34.5%);\n",
       "}\n",
       "#T_332d5_row3_col5 {\n",
       "  background-color: #cbd5e8;\n",
       "  color: #000000;\n",
       "}\n",
       "#T_332d5_row3_col6 {\n",
       "  background-color: #cccccc;\n",
       "  color: #000000;\n",
       "  width: 10em;\n",
       "  height: 80%;\n",
       "  background: linear-gradient(90deg,lightpink 41.1%, transparent 41.1%);\n",
       "}\n",
       "#T_332d5_row4_col0 {\n",
       "  background-color: #cccccc;\n",
       "  color: #000000;\n",
       "  width: 10em;\n",
       "  height: 80%;\n",
       "  background: linear-gradient(90deg,lightpink 66.4%, transparent 66.4%);\n",
       "}\n",
       "#T_332d5_row4_col1, #T_332d5_row5_col1 {\n",
       "  background-color: #cccccc;\n",
       "  color: #000000;\n",
       "  width: 10em;\n",
       "  height: 80%;\n",
       "  background: linear-gradient(90deg,lightpink 68.7%, transparent 68.7%);\n",
       "}\n",
       "#T_332d5_row4_col5 {\n",
       "  background-color: #e6f5c9;\n",
       "  color: #000000;\n",
       "}\n",
       "#T_332d5_row4_col6 {\n",
       "  background-color: #cccccc;\n",
       "  color: #000000;\n",
       "  width: 10em;\n",
       "  height: 80%;\n",
       "  background: linear-gradient(90deg,lightpink 75.2%, transparent 75.2%);\n",
       "}\n",
       "#T_332d5_row5_col0 {\n",
       "  background-color: #cccccc;\n",
       "  color: #000000;\n",
       "  width: 10em;\n",
       "  height: 80%;\n",
       "  background: linear-gradient(90deg,lightpink 65.6%, transparent 65.6%);\n",
       "}\n",
       "#T_332d5_row5_col6 {\n",
       "  background-color: #cccccc;\n",
       "  color: #000000;\n",
       "  width: 10em;\n",
       "  height: 80%;\n",
       "  background: linear-gradient(90deg,lightpink 68.2%, transparent 68.2%);\n",
       "}\n",
       "</style>\n",
       "<table id=\"T_332d5_\" class=\"dataframe\">\n",
       "  <thead>\n",
       "    <tr>\n",
       "      <th class=\"blank level0\" >&nbsp;</th>\n",
       "      <th class=\"col_heading level0 col0\" >mean</th>\n",
       "      <th class=\"col_heading level0 col1\" >std</th>\n",
       "      <th class=\"col_heading level0 col2\" >min</th>\n",
       "      <th class=\"col_heading level0 col3\" >25%</th>\n",
       "      <th class=\"col_heading level0 col4\" >50%</th>\n",
       "      <th class=\"col_heading level0 col5\" >75%</th>\n",
       "      <th class=\"col_heading level0 col6\" >max</th>\n",
       "    </tr>\n",
       "  </thead>\n",
       "  <tbody>\n",
       "    <tr>\n",
       "      <th id=\"T_332d5_level0_row0\" class=\"row_heading level0 row0\" >Age</th>\n",
       "      <td id=\"T_332d5_row0_col0\" class=\"data row0 col0\" >28.846256</td>\n",
       "      <td id=\"T_332d5_row0_col1\" class=\"data row0 col1\" >14.333877</td>\n",
       "      <td id=\"T_332d5_row0_col2\" class=\"data row0 col2\" >0.000000</td>\n",
       "      <td id=\"T_332d5_row0_col3\" class=\"data row0 col3\" >20.000000</td>\n",
       "      <td id=\"T_332d5_row0_col4\" class=\"data row0 col4\" >27.000000</td>\n",
       "      <td id=\"T_332d5_row0_col5\" class=\"data row0 col5\" >37.000000</td>\n",
       "      <td id=\"T_332d5_row0_col6\" class=\"data row0 col6\" >79.000000</td>\n",
       "    </tr>\n",
       "    <tr>\n",
       "      <th id=\"T_332d5_level0_row1\" class=\"row_heading level0 row1\" >RoomService</th>\n",
       "      <td id=\"T_332d5_row1_col0\" class=\"data row1 col0\" >221.319026</td>\n",
       "      <td id=\"T_332d5_row1_col1\" class=\"data row1 col1\" >631.582409</td>\n",
       "      <td id=\"T_332d5_row1_col2\" class=\"data row1 col2\" >0.000000</td>\n",
       "      <td id=\"T_332d5_row1_col3\" class=\"data row1 col3\" >0.000000</td>\n",
       "      <td id=\"T_332d5_row1_col4\" class=\"data row1 col4\" >0.000000</td>\n",
       "      <td id=\"T_332d5_row1_col5\" class=\"data row1 col5\" >80.000000</td>\n",
       "      <td id=\"T_332d5_row1_col6\" class=\"data row1 col6\" >9920.000000</td>\n",
       "    </tr>\n",
       "    <tr>\n",
       "      <th id=\"T_332d5_level0_row2\" class=\"row_heading level0 row2\" >FoodCourt</th>\n",
       "      <td id=\"T_332d5_row2_col0\" class=\"data row2 col0\" >464.970397</td>\n",
       "      <td id=\"T_332d5_row2_col1\" class=\"data row2 col1\" >1626.530777</td>\n",
       "      <td id=\"T_332d5_row2_col2\" class=\"data row2 col2\" >0.000000</td>\n",
       "      <td id=\"T_332d5_row2_col3\" class=\"data row2 col3\" >0.000000</td>\n",
       "      <td id=\"T_332d5_row2_col4\" class=\"data row2 col4\" >0.000000</td>\n",
       "      <td id=\"T_332d5_row2_col5\" class=\"data row2 col5\" >122.000000</td>\n",
       "      <td id=\"T_332d5_row2_col6\" class=\"data row2 col6\" >29813.000000</td>\n",
       "    </tr>\n",
       "    <tr>\n",
       "      <th id=\"T_332d5_level0_row3\" class=\"row_heading level0 row3\" >ShoppingMall</th>\n",
       "      <td id=\"T_332d5_row3_col0\" class=\"data row3 col0\" >177.069542</td>\n",
       "      <td id=\"T_332d5_row3_col1\" class=\"data row3 col1\" >561.472743</td>\n",
       "      <td id=\"T_332d5_row3_col2\" class=\"data row3 col2\" >0.000000</td>\n",
       "      <td id=\"T_332d5_row3_col3\" class=\"data row3 col3\" >0.000000</td>\n",
       "      <td id=\"T_332d5_row3_col4\" class=\"data row3 col4\" >0.000000</td>\n",
       "      <td id=\"T_332d5_row3_col5\" class=\"data row3 col5\" >47.000000</td>\n",
       "      <td id=\"T_332d5_row3_col6\" class=\"data row3 col6\" >12253.000000</td>\n",
       "    </tr>\n",
       "    <tr>\n",
       "      <th id=\"T_332d5_level0_row4\" class=\"row_heading level0 row4\" >Spa</th>\n",
       "      <td id=\"T_332d5_row4_col0\" class=\"data row4 col0\" >308.882566</td>\n",
       "      <td id=\"T_332d5_row4_col1\" class=\"data row4 col1\" >1117.335508</td>\n",
       "      <td id=\"T_332d5_row4_col2\" class=\"data row4 col2\" >0.000000</td>\n",
       "      <td id=\"T_332d5_row4_col3\" class=\"data row4 col3\" >0.000000</td>\n",
       "      <td id=\"T_332d5_row4_col4\" class=\"data row4 col4\" >0.000000</td>\n",
       "      <td id=\"T_332d5_row4_col5\" class=\"data row4 col5\" >92.000000</td>\n",
       "      <td id=\"T_332d5_row4_col6\" class=\"data row4 col6\" >22408.000000</td>\n",
       "    </tr>\n",
       "    <tr>\n",
       "      <th id=\"T_332d5_level0_row5\" class=\"row_heading level0 row5\" >VRDeck</th>\n",
       "      <td id=\"T_332d5_row5_col0\" class=\"data row5 col0\" >305.237307</td>\n",
       "      <td id=\"T_332d5_row5_col1\" class=\"data row5 col1\" >1116.902993</td>\n",
       "      <td id=\"T_332d5_row5_col2\" class=\"data row5 col2\" >0.000000</td>\n",
       "      <td id=\"T_332d5_row5_col3\" class=\"data row5 col3\" >0.000000</td>\n",
       "      <td id=\"T_332d5_row5_col4\" class=\"data row5 col4\" >0.000000</td>\n",
       "      <td id=\"T_332d5_row5_col5\" class=\"data row5 col5\" >74.500000</td>\n",
       "      <td id=\"T_332d5_row5_col6\" class=\"data row5 col6\" >20336.000000</td>\n",
       "    </tr>\n",
       "  </tbody>\n",
       "</table>\n"
      ],
      "text/plain": [
       "<pandas.io.formats.style.Styler at 0x7fb0acc7d750>"
      ]
     },
     "execution_count": 12,
     "metadata": {},
     "output_type": "execute_result"
    }
   ],
   "source": [
    "titanic_train.describe()[1:].T.style.background_gradient(cmap= \"Pastel2\", axis=None, vmin=0, vmax=120, high=0.5, text_color_threshold=0)\\\n",
    "                        .bar(subset=[\"mean\"], color=\"lightpink\", vmin=0)\\\n",
    "                        .bar(subset=[\"std\"], color=\"lightpink\", vmin=0)\\\n",
    "                        .bar(subset=[\"max\"], color=\"lightpink\", vmin=0)\\"
   ]
  },
  {
   "cell_type": "code",
   "execution_count": 13,
   "metadata": {
    "colab": {
     "base_uri": "https://localhost:8080/",
     "height": 0
    },
    "id": "6_JSTokntXUC",
    "outputId": "d7119bbe-9348-4b12-aa23-860ad0e09d36"
   },
   "outputs": [
    {
     "data": {
      "text/html": [
       "<style type=\"text/css\">\n",
       "#T_c8613_row0_col0, #T_c8613_row1_col0, #T_c8613_row2_col0, #T_c8613_row2_col1, #T_c8613_row3_col0, #T_c8613_row4_col0, #T_c8613_row5_col0, #T_c8613_row5_col1, #T_c8613_row6_col0 {\n",
       "  width: 10em;\n",
       "  height: 80%;\n",
       "}\n",
       "#T_c8613_row0_col1 {\n",
       "  width: 10em;\n",
       "  height: 80%;\n",
       "  background: linear-gradient(90deg,lightpink 100.0%, transparent 100.0%);\n",
       "}\n",
       "#T_c8613_row1_col1, #T_c8613_row4_col1 {\n",
       "  width: 10em;\n",
       "  height: 80%;\n",
       "  background: linear-gradient(90deg,lightpink 0.0%, transparent 0.0%);\n",
       "}\n",
       "#T_c8613_row3_col1 {\n",
       "  width: 10em;\n",
       "  height: 80%;\n",
       "  background: linear-gradient(90deg,lightpink 78.8%, transparent 78.8%);\n",
       "}\n",
       "#T_c8613_row6_col1 {\n",
       "  width: 10em;\n",
       "  height: 80%;\n",
       "  background: linear-gradient(90deg,lightpink 99.7%, transparent 99.7%);\n",
       "}\n",
       "</style>\n",
       "<table id=\"T_c8613_\" class=\"dataframe\">\n",
       "  <thead>\n",
       "    <tr>\n",
       "      <th class=\"blank level0\" >&nbsp;</th>\n",
       "      <th class=\"col_heading level0 col0\" >count</th>\n",
       "      <th class=\"col_heading level0 col1\" >unique</th>\n",
       "      <th class=\"col_heading level0 col2\" >top</th>\n",
       "      <th class=\"col_heading level0 col3\" >freq</th>\n",
       "    </tr>\n",
       "  </thead>\n",
       "  <tbody>\n",
       "    <tr>\n",
       "      <th id=\"T_c8613_level0_row0\" class=\"row_heading level0 row0\" >PassengerId</th>\n",
       "      <td id=\"T_c8613_row0_col0\" class=\"data row0 col0\" >7559</td>\n",
       "      <td id=\"T_c8613_row0_col1\" class=\"data row0 col1\" >7559</td>\n",
       "      <td id=\"T_c8613_row0_col2\" class=\"data row0 col2\" >0001_01</td>\n",
       "      <td id=\"T_c8613_row0_col3\" class=\"data row0 col3\" >1</td>\n",
       "    </tr>\n",
       "    <tr>\n",
       "      <th id=\"T_c8613_level0_row1\" class=\"row_heading level0 row1\" >HomePlanet</th>\n",
       "      <td id=\"T_c8613_row1_col0\" class=\"data row1 col0\" >7559</td>\n",
       "      <td id=\"T_c8613_row1_col1\" class=\"data row1 col1\" >3</td>\n",
       "      <td id=\"T_c8613_row1_col2\" class=\"data row1 col2\" >Earth</td>\n",
       "      <td id=\"T_c8613_row1_col3\" class=\"data row1 col3\" >4101</td>\n",
       "    </tr>\n",
       "    <tr>\n",
       "      <th id=\"T_c8613_level0_row2\" class=\"row_heading level0 row2\" >CryoSleep</th>\n",
       "      <td id=\"T_c8613_row2_col0\" class=\"data row2 col0\" >7559</td>\n",
       "      <td id=\"T_c8613_row2_col1\" class=\"data row2 col1\" >2</td>\n",
       "      <td id=\"T_c8613_row2_col2\" class=\"data row2 col2\" >False</td>\n",
       "      <td id=\"T_c8613_row2_col3\" class=\"data row2 col3\" >4854</td>\n",
       "    </tr>\n",
       "    <tr>\n",
       "      <th id=\"T_c8613_level0_row3\" class=\"row_heading level0 row3\" >Cabin</th>\n",
       "      <td id=\"T_c8613_row3_col0\" class=\"data row3 col0\" >7559</td>\n",
       "      <td id=\"T_c8613_row3_col1\" class=\"data row3 col1\" >5957</td>\n",
       "      <td id=\"T_c8613_row3_col2\" class=\"data row3 col2\" >G/734/S</td>\n",
       "      <td id=\"T_c8613_row3_col3\" class=\"data row3 col3\" >8</td>\n",
       "    </tr>\n",
       "    <tr>\n",
       "      <th id=\"T_c8613_level0_row4\" class=\"row_heading level0 row4\" >Destination</th>\n",
       "      <td id=\"T_c8613_row4_col0\" class=\"data row4 col0\" >7559</td>\n",
       "      <td id=\"T_c8613_row4_col1\" class=\"data row4 col1\" >3</td>\n",
       "      <td id=\"T_c8613_row4_col2\" class=\"data row4 col2\" >TRAPPIST-1e</td>\n",
       "      <td id=\"T_c8613_row4_col3\" class=\"data row4 col3\" >5253</td>\n",
       "    </tr>\n",
       "    <tr>\n",
       "      <th id=\"T_c8613_level0_row5\" class=\"row_heading level0 row5\" >VIP</th>\n",
       "      <td id=\"T_c8613_row5_col0\" class=\"data row5 col0\" >7559</td>\n",
       "      <td id=\"T_c8613_row5_col1\" class=\"data row5 col1\" >2</td>\n",
       "      <td id=\"T_c8613_row5_col2\" class=\"data row5 col2\" >False</td>\n",
       "      <td id=\"T_c8613_row5_col3\" class=\"data row5 col3\" >7379</td>\n",
       "    </tr>\n",
       "    <tr>\n",
       "      <th id=\"T_c8613_level0_row6\" class=\"row_heading level0 row6\" >Name</th>\n",
       "      <td id=\"T_c8613_row6_col0\" class=\"data row6 col0\" >7559</td>\n",
       "      <td id=\"T_c8613_row6_col1\" class=\"data row6 col1\" >7540</td>\n",
       "      <td id=\"T_c8613_row6_col2\" class=\"data row6 col2\" >Glena Hahnstonsen</td>\n",
       "      <td id=\"T_c8613_row6_col3\" class=\"data row6 col3\" >2</td>\n",
       "    </tr>\n",
       "  </tbody>\n",
       "</table>\n"
      ],
      "text/plain": [
       "<pandas.io.formats.style.Styler at 0x7fb0ad5d8350>"
      ]
     },
     "execution_count": 13,
     "metadata": {},
     "output_type": "execute_result"
    }
   ],
   "source": [
    "titanic_train.describe(include=['O']).T.style.background_gradient()\\\n",
    "                .bar(subset=[\"count\"], color=\"lightpink\", vmin=7559, vmax=titanic_train.shape[0])\\\n",
    "                .bar(subset=[\"unique\"], color=\"lightpink\")"
   ]
  },
  {
   "cell_type": "markdown",
   "metadata": {
    "id": "tOHHyk9IilMb"
   },
   "source": [
    "　　(2) Explore Categorical Data "
   ]
  },
  {
   "cell_type": "code",
   "execution_count": 14,
   "metadata": {
    "colab": {
     "base_uri": "https://localhost:8080/",
     "height": 0
    },
    "id": "dcCymyiPvRHh",
    "outputId": "06461870-5d4a-41d6-b434-ef16bfee2baa"
   },
   "outputs": [
    {
     "data": {
      "image/png": "[encoded data removed]",
      "text/plain": [
       "<Figure size 576x432 with 1 Axes>"
      ]
     },
     "metadata": {
      "needs_background": "light"
     },
     "output_type": "display_data"
    }
   ],
   "source": [
    "plt.figure(figsize = (8,6))\n",
    "ax = sns.countplot(data = titanic_train, x = 'HomePlanet', hue=\"Transported\")\n",
    "plt.title(\"Travelers' Home Planet\")\n",
    "plt.show()"
   ]
  },
  {
   "cell_type": "code",
   "execution_count": 15,
   "metadata": {
    "colab": {
     "base_uri": "https://localhost:8080/",
     "height": 0
    },
    "id": "v9UaSdfjvQ_C",
    "outputId": "3b55137d-f251-4bc7-ee23-edda68b08ef0"
   },
   "outputs": [
    {
     "data": {
      "image/png": "[encoded data removed]",
      "text/plain": [
       "<Figure size 576x432 with 1 Axes>"
      ]
     },
     "metadata": {
      "needs_background": "light"
     },
     "output_type": "display_data"
    }
   ],
   "source": [
    "plt.figure(figsize = (8,6))\n",
    "ax = sns.countplot(data = titanic_train, x = 'Destination', hue=\"Transported\")\n",
    "plt.title(\"Travelers' Destination\")\n",
    "plt.show()"
   ]
  },
  {
   "cell_type": "code",
   "execution_count": 16,
   "metadata": {
    "colab": {
     "base_uri": "https://localhost:8080/",
     "height": 0
    },
    "id": "ERPbTw-m1fxm",
    "outputId": "72428782-b433-4884-9fe6-7b71e31c9765"
   },
   "outputs": [
    {
     "data": {
      "image/png": "[encoded data removed]",
      "text/plain": [
       "<Figure size 576x432 with 1 Axes>"
      ]
     },
     "metadata": {
      "needs_background": "light"
     },
     "output_type": "display_data"
    }
   ],
   "source": [
    "plt.figure(figsize = (8,6))\n",
    "ax = sns.countplot(data = titanic_train, x = 'CryoSleep', hue=\"Transported\")\n",
    "plt.title(\"Travelers' Destination\")\n",
    "plt.show()"
   ]
  },
  {
   "cell_type": "markdown",
   "metadata": {
    "id": "LOg2SBFr-RD2"
   },
   "source": [
    "　　(3) Explore Continuous Data "
   ]
  },
  {
   "cell_type": "code",
   "execution_count": 17,
   "metadata": {
    "colab": {
     "base_uri": "https://localhost:8080/",
     "height": 0
    },
    "id": "ereeyNHp1EMA",
    "outputId": "e3333289-933c-46e5-a26b-e951c4e0d9fc"
   },
   "outputs": [
    {
     "data": {
      "image/png": "[encoded data removed]",
      "text/plain": [
       "<Figure size 720x576 with 1 Axes>"
      ]
     },
     "metadata": {
      "needs_background": "light"
     },
     "output_type": "display_data"
    }
   ],
   "source": [
    "plt.figure(figsize = (10,8))\n",
    "sns.histplot(data = titanic_train, x = 'Age',hue=\"Transported\",kde=True)\n",
    "plt.title(\"The age of distribution based on Transported\")\n",
    "plt.show()"
   ]
  },
  {
   "cell_type": "markdown",
   "metadata": {
    "id": "1KopPWEr9zZV"
   },
   "source": [
    "　　(4) Check the correlation between columns"
   ]
  },
  {
   "cell_type": "code",
   "execution_count": 18,
   "metadata": {
    "colab": {
     "base_uri": "https://localhost:8080/",
     "height": 0
    },
    "id": "NSr-HFqe3gS8",
    "outputId": "53fd24f6-8d15-4f18-a4e3-711039ced4c9"
   },
   "outputs": [
    {
     "data": {
      "image/png": "[encoded data removed]",
      "text/plain": [
       "<Figure size 720x720 with 2 Axes>"
      ]
     },
     "metadata": {
      "needs_background": "light"
     },
     "output_type": "display_data"
    }
   ],
   "source": [
    "fig = plt.figure(figsize=(10., 10.))\n",
    "ax = sns.heatmap(titanic_train.corr(), vmin=-1., vmax=1., annot=True)"
   ]
  },
  {
   "cell_type": "markdown",
   "metadata": {
    "id": "pilA_kTFsBQF"
   },
   "source": [
    "#### 2-2. House Prices\n",
    "**Read data: train.csv**"
   ]
  },
  {
   "cell_type": "code",
   "execution_count": 19,
   "metadata": {
    "colab": {
     "base_uri": "https://localhost:8080/",
     "height": 0
    },
    "id": "VUZeDYtFttlE",
    "outputId": "8b064df0-d974-42a5-cfba-84935d6ff3a1"
   },
   "outputs": [
    {
     "data": {
      "text/html": [
       "\n",
       "  <div id=\"df-35fc5696-ffbd-45ed-9eff-d497b068a5e2\">\n",
       "    <div class=\"colab-df-container\">\n",
       "      <div>\n",
       "<style scoped>\n",
       "    .dataframe tbody tr th:only-of-type {\n",
       "        vertical-align: middle;\n",
       "    }\n",
       "\n",
       "    .dataframe tbody tr th {\n",
       "        vertical-align: top;\n",
       "    }\n",
       "\n",
       "    .dataframe thead th {\n",
       "        text-align: right;\n",
       "    }\n",
       "</style>\n",
       "<table border=\"1\" class=\"dataframe\">\n",
       "  <thead>\n",
       "    <tr style=\"text-align: right;\">\n",
       "      <th></th>\n",
       "      <th>Id</th>\n",
       "      <th>MSSubClass</th>\n",
       "      <th>MSZoning</th>\n",
       "      <th>LotFrontage</th>\n",
       "      <th>LotArea</th>\n",
       "      <th>Street</th>\n",
       "      <th>Alley</th>\n",
       "      <th>LotShape</th>\n",
       "      <th>LandContour</th>\n",
       "      <th>Utilities</th>\n",
       "      <th>...</th>\n",
       "      <th>PoolArea</th>\n",
       "      <th>PoolQC</th>\n",
       "      <th>Fence</th>\n",
       "      <th>MiscFeature</th>\n",
       "      <th>MiscVal</th>\n",
       "      <th>MoSold</th>\n",
       "      <th>YrSold</th>\n",
       "      <th>SaleType</th>\n",
       "      <th>SaleCondition</th>\n",
       "      <th>SalePrice</th>\n",
       "    </tr>\n",
       "  </thead>\n",
       "  <tbody>\n",
       "    <tr>\n",
       "      <th>0</th>\n",
       "      <td>1</td>\n",
       "      <td>60</td>\n",
       "      <td>RL</td>\n",
       "      <td>65.0</td>\n",
       "      <td>8450</td>\n",
       "      <td>Pave</td>\n",
       "      <td>NaN</td>\n",
       "      <td>Reg</td>\n",
       "      <td>Lvl</td>\n",
       "      <td>AllPub</td>\n",
       "      <td>...</td>\n",
       "      <td>0</td>\n",
       "      <td>NaN</td>\n",
       "      <td>NaN</td>\n",
       "      <td>NaN</td>\n",
       "      <td>0</td>\n",
       "      <td>2</td>\n",
       "      <td>2008</td>\n",
       "      <td>WD</td>\n",
       "      <td>Normal</td>\n",
       "      <td>208500</td>\n",
       "    </tr>\n",
       "    <tr>\n",
       "      <th>1</th>\n",
       "      <td>2</td>\n",
       "      <td>20</td>\n",
       "      <td>RL</td>\n",
       "      <td>80.0</td>\n",
       "      <td>9600</td>\n",
       "      <td>Pave</td>\n",
       "      <td>NaN</td>\n",
       "      <td>Reg</td>\n",
       "      <td>Lvl</td>\n",
       "      <td>AllPub</td>\n",
       "      <td>...</td>\n",
       "      <td>0</td>\n",
       "      <td>NaN</td>\n",
       "      <td>NaN</td>\n",
       "      <td>NaN</td>\n",
       "      <td>0</td>\n",
       "      <td>5</td>\n",
       "      <td>2007</td>\n",
       "      <td>WD</td>\n",
       "      <td>Normal</td>\n",
       "      <td>181500</td>\n",
       "    </tr>\n",
       "    <tr>\n",
       "      <th>2</th>\n",
       "      <td>3</td>\n",
       "      <td>60</td>\n",
       "      <td>RL</td>\n",
       "      <td>68.0</td>\n",
       "      <td>11250</td>\n",
       "      <td>Pave</td>\n",
       "      <td>NaN</td>\n",
       "      <td>IR1</td>\n",
       "      <td>Lvl</td>\n",
       "      <td>AllPub</td>\n",
       "      <td>...</td>\n",
       "      <td>0</td>\n",
       "      <td>NaN</td>\n",
       "      <td>NaN</td>\n",
       "      <td>NaN</td>\n",
       "      <td>0</td>\n",
       "      <td>9</td>\n",
       "      <td>2008</td>\n",
       "      <td>WD</td>\n",
       "      <td>Normal</td>\n",
       "      <td>223500</td>\n",
       "    </tr>\n",
       "    <tr>\n",
       "      <th>3</th>\n",
       "      <td>4</td>\n",
       "      <td>70</td>\n",
       "      <td>RL</td>\n",
       "      <td>60.0</td>\n",
       "      <td>9550</td>\n",
       "      <td>Pave</td>\n",
       "      <td>NaN</td>\n",
       "      <td>IR1</td>\n",
       "      <td>Lvl</td>\n",
       "      <td>AllPub</td>\n",
       "      <td>...</td>\n",
       "      <td>0</td>\n",
       "      <td>NaN</td>\n",
       "      <td>NaN</td>\n",
       "      <td>NaN</td>\n",
       "      <td>0</td>\n",
       "      <td>2</td>\n",
       "      <td>2006</td>\n",
       "      <td>WD</td>\n",
       "      <td>Abnorml</td>\n",
       "      <td>140000</td>\n",
       "    </tr>\n",
       "    <tr>\n",
       "      <th>4</th>\n",
       "      <td>5</td>\n",
       "      <td>60</td>\n",
       "      <td>RL</td>\n",
       "      <td>84.0</td>\n",
       "      <td>14260</td>\n",
       "      <td>Pave</td>\n",
       "      <td>NaN</td>\n",
       "      <td>IR1</td>\n",
       "      <td>Lvl</td>\n",
       "      <td>AllPub</td>\n",
       "      <td>...</td>\n",
       "      <td>0</td>\n",
       "      <td>NaN</td>\n",
       "      <td>NaN</td>\n",
       "      <td>NaN</td>\n",
       "      <td>0</td>\n",
       "      <td>12</td>\n",
       "      <td>2008</td>\n",
       "      <td>WD</td>\n",
       "      <td>Normal</td>\n",
       "      <td>250000</td>\n",
       "    </tr>\n",
       "  </tbody>\n",
       "</table>\n",
       "<p>5 rows × 81 columns</p>\n",
       "</div>\n",
       "      <button class=\"colab-df-convert\" onclick=\"convertToInteractive('df-35fc5696-ffbd-45ed-9eff-d497b068a5e2')\"\n",
       "              title=\"Convert this dataframe to an interactive table.\"\n",
       "              style=\"display:none;\">\n",
       "        \n",
       "  <svg xmlns=\"http://www.w3.org/2000/svg\" height=\"24px\"viewBox=\"0 0 24 24\"\n",
       "       width=\"24px\">\n",
       "    <path d=\"M0 0h24v24H0V0z\" fill=\"none\"/>\n",
       "    <path d=\"M18.56 5.44l.94 2.06.94-2.06 2.06-.94-2.06-.94-.94-2.06-.94 2.06-2.06.94zm-11 1L8.5 8.5l.94-2.06 2.06-.94-2.06-.94L8.5 2.5l-.94 2.06-2.06.94zm10 10l.94 2.06.94-2.06 2.06-.94-2.06-.94-.94-2.06-.94 2.06-2.06.94z\"/><path d=\"M17.41 7.96l-1.37-1.37c-.4-.4-.92-.59-1.43-.59-.52 0-1.04.2-1.43.59L10.3 9.45l-7.72 7.72c-.78.78-.78 2.05 0 2.83L4 21.41c.39.39.9.59 1.41.59.51 0 1.02-.2 1.41-.59l7.78-7.78 2.81-2.81c.8-.78.8-2.07 0-2.86zM5.41 20L4 18.59l7.72-7.72 1.47 1.35L5.41 20z\"/>\n",
       "  </svg>\n",
       "      </button>\n",
       "      \n",
       "  <style>\n",
       "    .colab-df-container {\n",
       "      display:flex;\n",
       "      flex-wrap:wrap;\n",
       "      gap: 12px;\n",
       "    }\n",
       "\n",
       "    .colab-df-convert {\n",
       "      background-color: #E8F0FE;\n",
       "      border: none;\n",
       "      border-radius: 50%;\n",
       "      cursor: pointer;\n",
       "      display: none;\n",
       "      fill: #1967D2;\n",
       "      height: 32px;\n",
       "      padding: 0 0 0 0;\n",
       "      width: 32px;\n",
       "    }\n",
       "\n",
       "    .colab-df-convert:hover {\n",
       "      background-color: #E2EBFA;\n",
       "      box-shadow: 0px 1px 2px rgba(60, 64, 67, 0.3), 0px 1px 3px 1px rgba(60, 64, 67, 0.15);\n",
       "      fill: #174EA6;\n",
       "    }\n",
       "\n",
       "    [theme=dark] .colab-df-convert {\n",
       "      background-color: #3B4455;\n",
       "      fill: #D2E3FC;\n",
       "    }\n",
       "\n",
       "    [theme=dark] .colab-df-convert:hover {\n",
       "      background-color: #434B5C;\n",
       "      box-shadow: 0px 1px 3px 1px rgba(0, 0, 0, 0.15);\n",
       "      filter: drop-shadow(0px 1px 2px rgba(0, 0, 0, 0.3));\n",
       "      fill: #FFFFFF;\n",
       "    }\n",
       "  </style>\n",
       "\n",
       "      <script>\n",
       "        const buttonEl =\n",
       "          document.querySelector('#df-35fc5696-ffbd-45ed-9eff-d497b068a5e2 button.colab-df-convert');\n",
       "        buttonEl.style.display =\n",
       "          google.colab.kernel.accessAllowed ? 'block' : 'none';\n",
       "\n",
       "        async function convertToInteractive(key) {\n",
       "          const element = document.querySelector('#df-35fc5696-ffbd-45ed-9eff-d497b068a5e2');\n",
       "          const dataTable =\n",
       "            await google.colab.kernel.invokeFunction('convertToInteractive',\n",
       "                                                     [key], {});\n",
       "          if (!dataTable) return;\n",
       "\n",
       "          const docLinkHtml = 'Like what you see? Visit the ' +\n",
       "            '<a target=\"_blank\" href=https://colab.research.google.com/notebooks/data_table.ipynb>data table notebook</a>'\n",
       "            + ' to learn more about interactive tables.';\n",
       "          element.innerHTML = '';\n",
       "          dataTable['output_type'] = 'display_data';\n",
       "          await google.colab.output.renderOutput(dataTable, element);\n",
       "          const docLink = document.createElement('div');\n",
       "          docLink.innerHTML = docLinkHtml;\n",
       "          element.appendChild(docLink);\n",
       "        }\n",
       "      </script>\n",
       "    </div>\n",
       "  </div>\n",
       "  "
      ],
      "text/plain": [
       "   Id  MSSubClass MSZoning  LotFrontage  LotArea Street Alley LotShape  \\\n",
       "0   1          60       RL         65.0     8450   Pave   NaN      Reg   \n",
       "1   2          20       RL         80.0     9600   Pave   NaN      Reg   \n",
       "2   3          60       RL         68.0    11250   Pave   NaN      IR1   \n",
       "3   4          70       RL         60.0     9550   Pave   NaN      IR1   \n",
       "4   5          60       RL         84.0    14260   Pave   NaN      IR1   \n",
       "\n",
       "  LandContour Utilities  ... PoolArea PoolQC Fence MiscFeature MiscVal MoSold  \\\n",
       "0         Lvl    AllPub  ...        0    NaN   NaN         NaN       0      2   \n",
       "1         Lvl    AllPub  ...        0    NaN   NaN         NaN       0      5   \n",
       "2         Lvl    AllPub  ...        0    NaN   NaN         NaN       0      9   \n",
       "3         Lvl    AllPub  ...        0    NaN   NaN         NaN       0      2   \n",
       "4         Lvl    AllPub  ...        0    NaN   NaN         NaN       0     12   \n",
       "\n",
       "  YrSold  SaleType  SaleCondition  SalePrice  \n",
       "0   2008        WD         Normal     208500  \n",
       "1   2007        WD         Normal     181500  \n",
       "2   2008        WD         Normal     223500  \n",
       "3   2006        WD        Abnorml     140000  \n",
       "4   2008        WD         Normal     250000  \n",
       "\n",
       "[5 rows x 81 columns]"
      ]
     },
     "execution_count": 19,
     "metadata": {},
     "output_type": "execute_result"
    }
   ],
   "source": [
    "house_train = pd.read_csv(\"/content/gdrive/My Drive/SemesterProject_data/houseprice/train.csv\")\n",
    "house_train.head()"
   ]
  },
  {
   "cell_type": "markdown",
   "metadata": {
    "id": "_pXRfTSAt-7w"
   },
   "source": [
    "**Handling the missing values**\n",
    "\n",
    "We will just drop every NA data because most of the data is categorical data."
   ]
  },
  {
   "cell_type": "code",
   "execution_count": 20,
   "metadata": {
    "colab": {
     "base_uri": "https://localhost:8080/"
    },
    "id": "6z-LAZ0Auakc",
    "outputId": "89549178-5fee-43fd-d037-b48d08377442"
   },
   "outputs": [
    {
     "data": {
      "text/plain": [
       "Id                 0\n",
       "MSSubClass         0\n",
       "MSZoning           0\n",
       "LotFrontage      259\n",
       "LotArea            0\n",
       "                ... \n",
       "MoSold             0\n",
       "YrSold             0\n",
       "SaleType           0\n",
       "SaleCondition      0\n",
       "SalePrice          0\n",
       "Length: 81, dtype: int64"
      ]
     },
     "execution_count": 20,
     "metadata": {},
     "output_type": "execute_result"
    }
   ],
   "source": [
    "house_train.isnull().sum()"
   ]
  },
  {
   "cell_type": "markdown",
   "metadata": {
    "id": "M-_xhzGxoTx6"
   },
   "source": [
    "There are 81 columns in the data. And we found that there are so many NaN value which is unnecessary while we explore the data. So we decided to drop the value which has so many NaN value. "
   ]
  },
  {
   "cell_type": "code",
   "execution_count": 21,
   "metadata": {
    "colab": {
     "base_uri": "https://localhost:8080/",
     "height": 0
    },
    "id": "kRi1ToeMuAy0",
    "outputId": "d8f472ec-d21b-4312-e5de-69a77c576d12"
   },
   "outputs": [
    {
     "name": "stdout",
     "output_type": "stream",
     "text": [
      "List of dropped columns: Alley, PoolQC, Fence, MiscFeature, \n",
      "\n"
     ]
    },
    {
     "data": {
      "text/html": [
       "\n",
       "  <div id=\"df-82d02ceb-df0c-46ff-a13b-f9cbb132bf0e\">\n",
       "    <div class=\"colab-df-container\">\n",
       "      <div>\n",
       "<style scoped>\n",
       "    .dataframe tbody tr th:only-of-type {\n",
       "        vertical-align: middle;\n",
       "    }\n",
       "\n",
       "    .dataframe tbody tr th {\n",
       "        vertical-align: top;\n",
       "    }\n",
       "\n",
       "    .dataframe thead th {\n",
       "        text-align: right;\n",
       "    }\n",
       "</style>\n",
       "<table border=\"1\" class=\"dataframe\">\n",
       "  <thead>\n",
       "    <tr style=\"text-align: right;\">\n",
       "      <th></th>\n",
       "      <th>Id</th>\n",
       "      <th>MSSubClass</th>\n",
       "      <th>MSZoning</th>\n",
       "      <th>LotFrontage</th>\n",
       "      <th>LotArea</th>\n",
       "      <th>Street</th>\n",
       "      <th>LotShape</th>\n",
       "      <th>LandContour</th>\n",
       "      <th>Utilities</th>\n",
       "      <th>LotConfig</th>\n",
       "      <th>...</th>\n",
       "      <th>EnclosedPorch</th>\n",
       "      <th>3SsnPorch</th>\n",
       "      <th>ScreenPorch</th>\n",
       "      <th>PoolArea</th>\n",
       "      <th>MiscVal</th>\n",
       "      <th>MoSold</th>\n",
       "      <th>YrSold</th>\n",
       "      <th>SaleType</th>\n",
       "      <th>SaleCondition</th>\n",
       "      <th>SalePrice</th>\n",
       "    </tr>\n",
       "  </thead>\n",
       "  <tbody>\n",
       "    <tr>\n",
       "      <th>0</th>\n",
       "      <td>1</td>\n",
       "      <td>60</td>\n",
       "      <td>RL</td>\n",
       "      <td>65.0</td>\n",
       "      <td>8450</td>\n",
       "      <td>Pave</td>\n",
       "      <td>Reg</td>\n",
       "      <td>Lvl</td>\n",
       "      <td>AllPub</td>\n",
       "      <td>Inside</td>\n",
       "      <td>...</td>\n",
       "      <td>0</td>\n",
       "      <td>0</td>\n",
       "      <td>0</td>\n",
       "      <td>0</td>\n",
       "      <td>0</td>\n",
       "      <td>2</td>\n",
       "      <td>2008</td>\n",
       "      <td>WD</td>\n",
       "      <td>Normal</td>\n",
       "      <td>208500</td>\n",
       "    </tr>\n",
       "    <tr>\n",
       "      <th>1</th>\n",
       "      <td>2</td>\n",
       "      <td>20</td>\n",
       "      <td>RL</td>\n",
       "      <td>80.0</td>\n",
       "      <td>9600</td>\n",
       "      <td>Pave</td>\n",
       "      <td>Reg</td>\n",
       "      <td>Lvl</td>\n",
       "      <td>AllPub</td>\n",
       "      <td>FR2</td>\n",
       "      <td>...</td>\n",
       "      <td>0</td>\n",
       "      <td>0</td>\n",
       "      <td>0</td>\n",
       "      <td>0</td>\n",
       "      <td>0</td>\n",
       "      <td>5</td>\n",
       "      <td>2007</td>\n",
       "      <td>WD</td>\n",
       "      <td>Normal</td>\n",
       "      <td>181500</td>\n",
       "    </tr>\n",
       "    <tr>\n",
       "      <th>2</th>\n",
       "      <td>3</td>\n",
       "      <td>60</td>\n",
       "      <td>RL</td>\n",
       "      <td>68.0</td>\n",
       "      <td>11250</td>\n",
       "      <td>Pave</td>\n",
       "      <td>IR1</td>\n",
       "      <td>Lvl</td>\n",
       "      <td>AllPub</td>\n",
       "      <td>Inside</td>\n",
       "      <td>...</td>\n",
       "      <td>0</td>\n",
       "      <td>0</td>\n",
       "      <td>0</td>\n",
       "      <td>0</td>\n",
       "      <td>0</td>\n",
       "      <td>9</td>\n",
       "      <td>2008</td>\n",
       "      <td>WD</td>\n",
       "      <td>Normal</td>\n",
       "      <td>223500</td>\n",
       "    </tr>\n",
       "    <tr>\n",
       "      <th>3</th>\n",
       "      <td>4</td>\n",
       "      <td>70</td>\n",
       "      <td>RL</td>\n",
       "      <td>60.0</td>\n",
       "      <td>9550</td>\n",
       "      <td>Pave</td>\n",
       "      <td>IR1</td>\n",
       "      <td>Lvl</td>\n",
       "      <td>AllPub</td>\n",
       "      <td>Corner</td>\n",
       "      <td>...</td>\n",
       "      <td>272</td>\n",
       "      <td>0</td>\n",
       "      <td>0</td>\n",
       "      <td>0</td>\n",
       "      <td>0</td>\n",
       "      <td>2</td>\n",
       "      <td>2006</td>\n",
       "      <td>WD</td>\n",
       "      <td>Abnorml</td>\n",
       "      <td>140000</td>\n",
       "    </tr>\n",
       "    <tr>\n",
       "      <th>4</th>\n",
       "      <td>5</td>\n",
       "      <td>60</td>\n",
       "      <td>RL</td>\n",
       "      <td>84.0</td>\n",
       "      <td>14260</td>\n",
       "      <td>Pave</td>\n",
       "      <td>IR1</td>\n",
       "      <td>Lvl</td>\n",
       "      <td>AllPub</td>\n",
       "      <td>FR2</td>\n",
       "      <td>...</td>\n",
       "      <td>0</td>\n",
       "      <td>0</td>\n",
       "      <td>0</td>\n",
       "      <td>0</td>\n",
       "      <td>0</td>\n",
       "      <td>12</td>\n",
       "      <td>2008</td>\n",
       "      <td>WD</td>\n",
       "      <td>Normal</td>\n",
       "      <td>250000</td>\n",
       "    </tr>\n",
       "  </tbody>\n",
       "</table>\n",
       "<p>5 rows × 77 columns</p>\n",
       "</div>\n",
       "      <button class=\"colab-df-convert\" onclick=\"convertToInteractive('df-82d02ceb-df0c-46ff-a13b-f9cbb132bf0e')\"\n",
       "              title=\"Convert this dataframe to an interactive table.\"\n",
       "              style=\"display:none;\">\n",
       "        \n",
       "  <svg xmlns=\"http://www.w3.org/2000/svg\" height=\"24px\"viewBox=\"0 0 24 24\"\n",
       "       width=\"24px\">\n",
       "    <path d=\"M0 0h24v24H0V0z\" fill=\"none\"/>\n",
       "    <path d=\"M18.56 5.44l.94 2.06.94-2.06 2.06-.94-2.06-.94-.94-2.06-.94 2.06-2.06.94zm-11 1L8.5 8.5l.94-2.06 2.06-.94-2.06-.94L8.5 2.5l-.94 2.06-2.06.94zm10 10l.94 2.06.94-2.06 2.06-.94-2.06-.94-.94-2.06-.94 2.06-2.06.94z\"/><path d=\"M17.41 7.96l-1.37-1.37c-.4-.4-.92-.59-1.43-.59-.52 0-1.04.2-1.43.59L10.3 9.45l-7.72 7.72c-.78.78-.78 2.05 0 2.83L4 21.41c.39.39.9.59 1.41.59.51 0 1.02-.2 1.41-.59l7.78-7.78 2.81-2.81c.8-.78.8-2.07 0-2.86zM5.41 20L4 18.59l7.72-7.72 1.47 1.35L5.41 20z\"/>\n",
       "  </svg>\n",
       "      </button>\n",
       "      \n",
       "  <style>\n",
       "    .colab-df-container {\n",
       "      display:flex;\n",
       "      flex-wrap:wrap;\n",
       "      gap: 12px;\n",
       "    }\n",
       "\n",
       "    .colab-df-convert {\n",
       "      background-color: #E8F0FE;\n",
       "      border: none;\n",
       "      border-radius: 50%;\n",
       "      cursor: pointer;\n",
       "      display: none;\n",
       "      fill: #1967D2;\n",
       "      height: 32px;\n",
       "      padding: 0 0 0 0;\n",
       "      width: 32px;\n",
       "    }\n",
       "\n",
       "    .colab-df-convert:hover {\n",
       "      background-color: #E2EBFA;\n",
       "      box-shadow: 0px 1px 2px rgba(60, 64, 67, 0.3), 0px 1px 3px 1px rgba(60, 64, 67, 0.15);\n",
       "      fill: #174EA6;\n",
       "    }\n",
       "\n",
       "    [theme=dark] .colab-df-convert {\n",
       "      background-color: #3B4455;\n",
       "      fill: #D2E3FC;\n",
       "    }\n",
       "\n",
       "    [theme=dark] .colab-df-convert:hover {\n",
       "      background-color: #434B5C;\n",
       "      box-shadow: 0px 1px 3px 1px rgba(0, 0, 0, 0.15);\n",
       "      filter: drop-shadow(0px 1px 2px rgba(0, 0, 0, 0.3));\n",
       "      fill: #FFFFFF;\n",
       "    }\n",
       "  </style>\n",
       "\n",
       "      <script>\n",
       "        const buttonEl =\n",
       "          document.querySelector('#df-82d02ceb-df0c-46ff-a13b-f9cbb132bf0e button.colab-df-convert');\n",
       "        buttonEl.style.display =\n",
       "          google.colab.kernel.accessAllowed ? 'block' : 'none';\n",
       "\n",
       "        async function convertToInteractive(key) {\n",
       "          const element = document.querySelector('#df-82d02ceb-df0c-46ff-a13b-f9cbb132bf0e');\n",
       "          const dataTable =\n",
       "            await google.colab.kernel.invokeFunction('convertToInteractive',\n",
       "                                                     [key], {});\n",
       "          if (!dataTable) return;\n",
       "\n",
       "          const docLinkHtml = 'Like what you see? Visit the ' +\n",
       "            '<a target=\"_blank\" href=https://colab.research.google.com/notebooks/data_table.ipynb>data table notebook</a>'\n",
       "            + ' to learn more about interactive tables.';\n",
       "          element.innerHTML = '';\n",
       "          dataTable['output_type'] = 'display_data';\n",
       "          await google.colab.output.renderOutput(dataTable, element);\n",
       "          const docLink = document.createElement('div');\n",
       "          docLink.innerHTML = docLinkHtml;\n",
       "          element.appendChild(docLink);\n",
       "        }\n",
       "      </script>\n",
       "    </div>\n",
       "  </div>\n",
       "  "
      ],
      "text/plain": [
       "   Id  MSSubClass MSZoning  LotFrontage  LotArea Street LotShape LandContour  \\\n",
       "0   1          60       RL         65.0     8450   Pave      Reg         Lvl   \n",
       "1   2          20       RL         80.0     9600   Pave      Reg         Lvl   \n",
       "2   3          60       RL         68.0    11250   Pave      IR1         Lvl   \n",
       "3   4          70       RL         60.0     9550   Pave      IR1         Lvl   \n",
       "4   5          60       RL         84.0    14260   Pave      IR1         Lvl   \n",
       "\n",
       "  Utilities LotConfig  ... EnclosedPorch 3SsnPorch ScreenPorch PoolArea  \\\n",
       "0    AllPub    Inside  ...             0         0           0        0   \n",
       "1    AllPub       FR2  ...             0         0           0        0   \n",
       "2    AllPub    Inside  ...             0         0           0        0   \n",
       "3    AllPub    Corner  ...           272         0           0        0   \n",
       "4    AllPub       FR2  ...             0         0           0        0   \n",
       "\n",
       "  MiscVal MoSold  YrSold  SaleType  SaleCondition  SalePrice  \n",
       "0       0      2    2008        WD         Normal     208500  \n",
       "1       0      5    2007        WD         Normal     181500  \n",
       "2       0      9    2008        WD         Normal     223500  \n",
       "3       0      2    2006        WD        Abnorml     140000  \n",
       "4       0     12    2008        WD         Normal     250000  \n",
       "\n",
       "[5 rows x 77 columns]"
      ]
     },
     "execution_count": 21,
     "metadata": {},
     "output_type": "execute_result"
    }
   ],
   "source": [
    "clean = house_train[[column for column in house_train if house_train[column].count() / len(house_train) >= 0.5]]\n",
    "\n",
    "print(\"List of dropped columns:\", end=\" \")\n",
    "for c in house_train.columns:\n",
    "    if c not in clean.columns:\n",
    "        print(c, end=\", \")\n",
    "print('\\n')\n",
    "house_train = clean\n",
    "\n",
    "house_train.head()"
   ]
  },
  {
   "cell_type": "markdown",
   "metadata": {
    "id": "Hv1gE_Z0fpLB"
   },
   "source": [
    "**Exploratory Data Analysis**"
   ]
  },
  {
   "cell_type": "markdown",
   "metadata": {
    "id": "FL8mQx4TBEJv"
   },
   "source": [
    "(1) Overview the data"
   ]
  },
  {
   "cell_type": "code",
   "execution_count": 22,
   "metadata": {
    "colab": {
     "base_uri": "https://localhost:8080/",
     "height": 0
    },
    "id": "m8cNpVo_uAl0",
    "outputId": "71116210-89bb-4a60-fd04-2f71a879a946"
   },
   "outputs": [
    {
     "data": {
      "text/html": [
       "\n",
       "  <div id=\"df-768c6f54-9ec0-40f1-8c13-644e628e0d14\">\n",
       "    <div class=\"colab-df-container\">\n",
       "      <div>\n",
       "<style scoped>\n",
       "    .dataframe tbody tr th:only-of-type {\n",
       "        vertical-align: middle;\n",
       "    }\n",
       "\n",
       "    .dataframe tbody tr th {\n",
       "        vertical-align: top;\n",
       "    }\n",
       "\n",
       "    .dataframe thead th {\n",
       "        text-align: right;\n",
       "    }\n",
       "</style>\n",
       "<table border=\"1\" class=\"dataframe\">\n",
       "  <thead>\n",
       "    <tr style=\"text-align: right;\">\n",
       "      <th></th>\n",
       "      <th>Id</th>\n",
       "      <th>MSSubClass</th>\n",
       "      <th>LotFrontage</th>\n",
       "      <th>LotArea</th>\n",
       "      <th>OverallQual</th>\n",
       "      <th>OverallCond</th>\n",
       "      <th>YearBuilt</th>\n",
       "      <th>YearRemodAdd</th>\n",
       "      <th>MasVnrArea</th>\n",
       "      <th>BsmtFinSF1</th>\n",
       "      <th>...</th>\n",
       "      <th>WoodDeckSF</th>\n",
       "      <th>OpenPorchSF</th>\n",
       "      <th>EnclosedPorch</th>\n",
       "      <th>3SsnPorch</th>\n",
       "      <th>ScreenPorch</th>\n",
       "      <th>PoolArea</th>\n",
       "      <th>MiscVal</th>\n",
       "      <th>MoSold</th>\n",
       "      <th>YrSold</th>\n",
       "      <th>SalePrice</th>\n",
       "    </tr>\n",
       "  </thead>\n",
       "  <tbody>\n",
       "    <tr>\n",
       "      <th>count</th>\n",
       "      <td>1460.000000</td>\n",
       "      <td>1460.000000</td>\n",
       "      <td>1201.000000</td>\n",
       "      <td>1460.000000</td>\n",
       "      <td>1460.000000</td>\n",
       "      <td>1460.000000</td>\n",
       "      <td>1460.000000</td>\n",
       "      <td>1460.000000</td>\n",
       "      <td>1452.000000</td>\n",
       "      <td>1460.000000</td>\n",
       "      <td>...</td>\n",
       "      <td>1460.000000</td>\n",
       "      <td>1460.000000</td>\n",
       "      <td>1460.000000</td>\n",
       "      <td>1460.000000</td>\n",
       "      <td>1460.000000</td>\n",
       "      <td>1460.000000</td>\n",
       "      <td>1460.000000</td>\n",
       "      <td>1460.000000</td>\n",
       "      <td>1460.000000</td>\n",
       "      <td>1460.000000</td>\n",
       "    </tr>\n",
       "    <tr>\n",
       "      <th>mean</th>\n",
       "      <td>730.500000</td>\n",
       "      <td>56.897260</td>\n",
       "      <td>70.049958</td>\n",
       "      <td>10516.828082</td>\n",
       "      <td>6.099315</td>\n",
       "      <td>5.575342</td>\n",
       "      <td>1971.267808</td>\n",
       "      <td>1984.865753</td>\n",
       "      <td>103.685262</td>\n",
       "      <td>443.639726</td>\n",
       "      <td>...</td>\n",
       "      <td>94.244521</td>\n",
       "      <td>46.660274</td>\n",
       "      <td>21.954110</td>\n",
       "      <td>3.409589</td>\n",
       "      <td>15.060959</td>\n",
       "      <td>2.758904</td>\n",
       "      <td>43.489041</td>\n",
       "      <td>6.321918</td>\n",
       "      <td>2007.815753</td>\n",
       "      <td>180921.195890</td>\n",
       "    </tr>\n",
       "    <tr>\n",
       "      <th>std</th>\n",
       "      <td>421.610009</td>\n",
       "      <td>42.300571</td>\n",
       "      <td>24.284752</td>\n",
       "      <td>9981.264932</td>\n",
       "      <td>1.382997</td>\n",
       "      <td>1.112799</td>\n",
       "      <td>30.202904</td>\n",
       "      <td>20.645407</td>\n",
       "      <td>181.066207</td>\n",
       "      <td>456.098091</td>\n",
       "      <td>...</td>\n",
       "      <td>125.338794</td>\n",
       "      <td>66.256028</td>\n",
       "      <td>61.119149</td>\n",
       "      <td>29.317331</td>\n",
       "      <td>55.757415</td>\n",
       "      <td>40.177307</td>\n",
       "      <td>496.123024</td>\n",
       "      <td>2.703626</td>\n",
       "      <td>1.328095</td>\n",
       "      <td>79442.502883</td>\n",
       "    </tr>\n",
       "    <tr>\n",
       "      <th>min</th>\n",
       "      <td>1.000000</td>\n",
       "      <td>20.000000</td>\n",
       "      <td>21.000000</td>\n",
       "      <td>1300.000000</td>\n",
       "      <td>1.000000</td>\n",
       "      <td>1.000000</td>\n",
       "      <td>1872.000000</td>\n",
       "      <td>1950.000000</td>\n",
       "      <td>0.000000</td>\n",
       "      <td>0.000000</td>\n",
       "      <td>...</td>\n",
       "      <td>0.000000</td>\n",
       "      <td>0.000000</td>\n",
       "      <td>0.000000</td>\n",
       "      <td>0.000000</td>\n",
       "      <td>0.000000</td>\n",
       "      <td>0.000000</td>\n",
       "      <td>0.000000</td>\n",
       "      <td>1.000000</td>\n",
       "      <td>2006.000000</td>\n",
       "      <td>34900.000000</td>\n",
       "    </tr>\n",
       "    <tr>\n",
       "      <th>25%</th>\n",
       "      <td>365.750000</td>\n",
       "      <td>20.000000</td>\n",
       "      <td>59.000000</td>\n",
       "      <td>7553.500000</td>\n",
       "      <td>5.000000</td>\n",
       "      <td>5.000000</td>\n",
       "      <td>1954.000000</td>\n",
       "      <td>1967.000000</td>\n",
       "      <td>0.000000</td>\n",
       "      <td>0.000000</td>\n",
       "      <td>...</td>\n",
       "      <td>0.000000</td>\n",
       "      <td>0.000000</td>\n",
       "      <td>0.000000</td>\n",
       "      <td>0.000000</td>\n",
       "      <td>0.000000</td>\n",
       "      <td>0.000000</td>\n",
       "      <td>0.000000</td>\n",
       "      <td>5.000000</td>\n",
       "      <td>2007.000000</td>\n",
       "      <td>129975.000000</td>\n",
       "    </tr>\n",
       "    <tr>\n",
       "      <th>50%</th>\n",
       "      <td>730.500000</td>\n",
       "      <td>50.000000</td>\n",
       "      <td>69.000000</td>\n",
       "      <td>9478.500000</td>\n",
       "      <td>6.000000</td>\n",
       "      <td>5.000000</td>\n",
       "      <td>1973.000000</td>\n",
       "      <td>1994.000000</td>\n",
       "      <td>0.000000</td>\n",
       "      <td>383.500000</td>\n",
       "      <td>...</td>\n",
       "      <td>0.000000</td>\n",
       "      <td>25.000000</td>\n",
       "      <td>0.000000</td>\n",
       "      <td>0.000000</td>\n",
       "      <td>0.000000</td>\n",
       "      <td>0.000000</td>\n",
       "      <td>0.000000</td>\n",
       "      <td>6.000000</td>\n",
       "      <td>2008.000000</td>\n",
       "      <td>163000.000000</td>\n",
       "    </tr>\n",
       "    <tr>\n",
       "      <th>75%</th>\n",
       "      <td>1095.250000</td>\n",
       "      <td>70.000000</td>\n",
       "      <td>80.000000</td>\n",
       "      <td>11601.500000</td>\n",
       "      <td>7.000000</td>\n",
       "      <td>6.000000</td>\n",
       "      <td>2000.000000</td>\n",
       "      <td>2004.000000</td>\n",
       "      <td>166.000000</td>\n",
       "      <td>712.250000</td>\n",
       "      <td>...</td>\n",
       "      <td>168.000000</td>\n",
       "      <td>68.000000</td>\n",
       "      <td>0.000000</td>\n",
       "      <td>0.000000</td>\n",
       "      <td>0.000000</td>\n",
       "      <td>0.000000</td>\n",
       "      <td>0.000000</td>\n",
       "      <td>8.000000</td>\n",
       "      <td>2009.000000</td>\n",
       "      <td>214000.000000</td>\n",
       "    </tr>\n",
       "    <tr>\n",
       "      <th>max</th>\n",
       "      <td>1460.000000</td>\n",
       "      <td>190.000000</td>\n",
       "      <td>313.000000</td>\n",
       "      <td>215245.000000</td>\n",
       "      <td>10.000000</td>\n",
       "      <td>9.000000</td>\n",
       "      <td>2010.000000</td>\n",
       "      <td>2010.000000</td>\n",
       "      <td>1600.000000</td>\n",
       "      <td>5644.000000</td>\n",
       "      <td>...</td>\n",
       "      <td>857.000000</td>\n",
       "      <td>547.000000</td>\n",
       "      <td>552.000000</td>\n",
       "      <td>508.000000</td>\n",
       "      <td>480.000000</td>\n",
       "      <td>738.000000</td>\n",
       "      <td>15500.000000</td>\n",
       "      <td>12.000000</td>\n",
       "      <td>2010.000000</td>\n",
       "      <td>755000.000000</td>\n",
       "    </tr>\n",
       "  </tbody>\n",
       "</table>\n",
       "<p>8 rows × 38 columns</p>\n",
       "</div>\n",
       "      <button class=\"colab-df-convert\" onclick=\"convertToInteractive('df-768c6f54-9ec0-40f1-8c13-644e628e0d14')\"\n",
       "              title=\"Convert this dataframe to an interactive table.\"\n",
       "              style=\"display:none;\">\n",
       "        \n",
       "  <svg xmlns=\"http://www.w3.org/2000/svg\" height=\"24px\"viewBox=\"0 0 24 24\"\n",
       "       width=\"24px\">\n",
       "    <path d=\"M0 0h24v24H0V0z\" fill=\"none\"/>\n",
       "    <path d=\"M18.56 5.44l.94 2.06.94-2.06 2.06-.94-2.06-.94-.94-2.06-.94 2.06-2.06.94zm-11 1L8.5 8.5l.94-2.06 2.06-.94-2.06-.94L8.5 2.5l-.94 2.06-2.06.94zm10 10l.94 2.06.94-2.06 2.06-.94-2.06-.94-.94-2.06-.94 2.06-2.06.94z\"/><path d=\"M17.41 7.96l-1.37-1.37c-.4-.4-.92-.59-1.43-.59-.52 0-1.04.2-1.43.59L10.3 9.45l-7.72 7.72c-.78.78-.78 2.05 0 2.83L4 21.41c.39.39.9.59 1.41.59.51 0 1.02-.2 1.41-.59l7.78-7.78 2.81-2.81c.8-.78.8-2.07 0-2.86zM5.41 20L4 18.59l7.72-7.72 1.47 1.35L5.41 20z\"/>\n",
       "  </svg>\n",
       "      </button>\n",
       "      \n",
       "  <style>\n",
       "    .colab-df-container {\n",
       "      display:flex;\n",
       "      flex-wrap:wrap;\n",
       "      gap: 12px;\n",
       "    }\n",
       "\n",
       "    .colab-df-convert {\n",
       "      background-color: #E8F0FE;\n",
       "      border: none;\n",
       "      border-radius: 50%;\n",
       "      cursor: pointer;\n",
       "      display: none;\n",
       "      fill: #1967D2;\n",
       "      height: 32px;\n",
       "      padding: 0 0 0 0;\n",
       "      width: 32px;\n",
       "    }\n",
       "\n",
       "    .colab-df-convert:hover {\n",
       "      background-color: #E2EBFA;\n",
       "      box-shadow: 0px 1px 2px rgba(60, 64, 67, 0.3), 0px 1px 3px 1px rgba(60, 64, 67, 0.15);\n",
       "      fill: #174EA6;\n",
       "    }\n",
       "\n",
       "    [theme=dark] .colab-df-convert {\n",
       "      background-color: #3B4455;\n",
       "      fill: #D2E3FC;\n",
       "    }\n",
       "\n",
       "    [theme=dark] .colab-df-convert:hover {\n",
       "      background-color: #434B5C;\n",
       "      box-shadow: 0px 1px 3px 1px rgba(0, 0, 0, 0.15);\n",
       "      filter: drop-shadow(0px 1px 2px rgba(0, 0, 0, 0.3));\n",
       "      fill: #FFFFFF;\n",
       "    }\n",
       "  </style>\n",
       "\n",
       "      <script>\n",
       "        const buttonEl =\n",
       "          document.querySelector('#df-768c6f54-9ec0-40f1-8c13-644e628e0d14 button.colab-df-convert');\n",
       "        buttonEl.style.display =\n",
       "          google.colab.kernel.accessAllowed ? 'block' : 'none';\n",
       "\n",
       "        async function convertToInteractive(key) {\n",
       "          const element = document.querySelector('#df-768c6f54-9ec0-40f1-8c13-644e628e0d14');\n",
       "          const dataTable =\n",
       "            await google.colab.kernel.invokeFunction('convertToInteractive',\n",
       "                                                     [key], {});\n",
       "          if (!dataTable) return;\n",
       "\n",
       "          const docLinkHtml = 'Like what you see? Visit the ' +\n",
       "            '<a target=\"_blank\" href=https://colab.research.google.com/notebooks/data_table.ipynb>data table notebook</a>'\n",
       "            + ' to learn more about interactive tables.';\n",
       "          element.innerHTML = '';\n",
       "          dataTable['output_type'] = 'display_data';\n",
       "          await google.colab.output.renderOutput(dataTable, element);\n",
       "          const docLink = document.createElement('div');\n",
       "          docLink.innerHTML = docLinkHtml;\n",
       "          element.appendChild(docLink);\n",
       "        }\n",
       "      </script>\n",
       "    </div>\n",
       "  </div>\n",
       "  "
      ],
      "text/plain": [
       "                Id   MSSubClass  LotFrontage        LotArea  OverallQual  \\\n",
       "count  1460.000000  1460.000000  1201.000000    1460.000000  1460.000000   \n",
       "mean    730.500000    56.897260    70.049958   10516.828082     6.099315   \n",
       "std     421.610009    42.300571    24.284752    9981.264932     1.382997   \n",
       "min       1.000000    20.000000    21.000000    1300.000000     1.000000   \n",
       "25%     365.750000    20.000000    59.000000    7553.500000     5.000000   \n",
       "50%     730.500000    50.000000    69.000000    9478.500000     6.000000   \n",
       "75%    1095.250000    70.000000    80.000000   11601.500000     7.000000   \n",
       "max    1460.000000   190.000000   313.000000  215245.000000    10.000000   \n",
       "\n",
       "       OverallCond    YearBuilt  YearRemodAdd   MasVnrArea   BsmtFinSF1  ...  \\\n",
       "count  1460.000000  1460.000000   1460.000000  1452.000000  1460.000000  ...   \n",
       "mean      5.575342  1971.267808   1984.865753   103.685262   443.639726  ...   \n",
       "std       1.112799    30.202904     20.645407   181.066207   456.098091  ...   \n",
       "min       1.000000  1872.000000   1950.000000     0.000000     0.000000  ...   \n",
       "25%       5.000000  1954.000000   1967.000000     0.000000     0.000000  ...   \n",
       "50%       5.000000  1973.000000   1994.000000     0.000000   383.500000  ...   \n",
       "75%       6.000000  2000.000000   2004.000000   166.000000   712.250000  ...   \n",
       "max       9.000000  2010.000000   2010.000000  1600.000000  5644.000000  ...   \n",
       "\n",
       "        WoodDeckSF  OpenPorchSF  EnclosedPorch    3SsnPorch  ScreenPorch  \\\n",
       "count  1460.000000  1460.000000    1460.000000  1460.000000  1460.000000   \n",
       "mean     94.244521    46.660274      21.954110     3.409589    15.060959   \n",
       "std     125.338794    66.256028      61.119149    29.317331    55.757415   \n",
       "min       0.000000     0.000000       0.000000     0.000000     0.000000   \n",
       "25%       0.000000     0.000000       0.000000     0.000000     0.000000   \n",
       "50%       0.000000    25.000000       0.000000     0.000000     0.000000   \n",
       "75%     168.000000    68.000000       0.000000     0.000000     0.000000   \n",
       "max     857.000000   547.000000     552.000000   508.000000   480.000000   \n",
       "\n",
       "          PoolArea       MiscVal       MoSold       YrSold      SalePrice  \n",
       "count  1460.000000   1460.000000  1460.000000  1460.000000    1460.000000  \n",
       "mean      2.758904     43.489041     6.321918  2007.815753  180921.195890  \n",
       "std      40.177307    496.123024     2.703626     1.328095   79442.502883  \n",
       "min       0.000000      0.000000     1.000000  2006.000000   34900.000000  \n",
       "25%       0.000000      0.000000     5.000000  2007.000000  129975.000000  \n",
       "50%       0.000000      0.000000     6.000000  2008.000000  163000.000000  \n",
       "75%       0.000000      0.000000     8.000000  2009.000000  214000.000000  \n",
       "max     738.000000  15500.000000    12.000000  2010.000000  755000.000000  \n",
       "\n",
       "[8 rows x 38 columns]"
      ]
     },
     "execution_count": 22,
     "metadata": {},
     "output_type": "execute_result"
    }
   ],
   "source": [
    "house_train.describe()"
   ]
  },
  {
   "cell_type": "markdown",
   "metadata": {
    "id": "8V91j7iZxj-m"
   },
   "source": [
    "Since there are still too many columns, we select 11 columns that can represent this dataset."
   ]
  },
  {
   "cell_type": "code",
   "execution_count": 23,
   "metadata": {
    "colab": {
     "base_uri": "https://localhost:8080/",
     "height": 0
    },
    "id": "VjgbJ2JXuAjZ",
    "outputId": "493631da-41e7-4c90-9009-8c7a2f5fbebe"
   },
   "outputs": [
    {
     "data": {
      "text/html": [
       "\n",
       "  <div id=\"df-6507e6c5-740f-45d7-8af3-de535cf997cc\">\n",
       "    <div class=\"colab-df-container\">\n",
       "      <div>\n",
       "<style scoped>\n",
       "    .dataframe tbody tr th:only-of-type {\n",
       "        vertical-align: middle;\n",
       "    }\n",
       "\n",
       "    .dataframe tbody tr th {\n",
       "        vertical-align: top;\n",
       "    }\n",
       "\n",
       "    .dataframe thead th {\n",
       "        text-align: right;\n",
       "    }\n",
       "</style>\n",
       "<table border=\"1\" class=\"dataframe\">\n",
       "  <thead>\n",
       "    <tr style=\"text-align: right;\">\n",
       "      <th></th>\n",
       "      <th>SalePrice</th>\n",
       "      <th>LotArea</th>\n",
       "      <th>OverallCond</th>\n",
       "      <th>YearBuilt</th>\n",
       "      <th>YearRemodAdd</th>\n",
       "      <th>HeatingQC</th>\n",
       "      <th>1stFlrSF</th>\n",
       "      <th>2ndFlrSF</th>\n",
       "      <th>GarageCond</th>\n",
       "      <th>BsmtCond</th>\n",
       "      <th>ExterCond</th>\n",
       "    </tr>\n",
       "  </thead>\n",
       "  <tbody>\n",
       "    <tr>\n",
       "      <th>0</th>\n",
       "      <td>208500</td>\n",
       "      <td>8450</td>\n",
       "      <td>5</td>\n",
       "      <td>2003</td>\n",
       "      <td>2003</td>\n",
       "      <td>Ex</td>\n",
       "      <td>856</td>\n",
       "      <td>854</td>\n",
       "      <td>TA</td>\n",
       "      <td>TA</td>\n",
       "      <td>TA</td>\n",
       "    </tr>\n",
       "    <tr>\n",
       "      <th>1</th>\n",
       "      <td>181500</td>\n",
       "      <td>9600</td>\n",
       "      <td>8</td>\n",
       "      <td>1976</td>\n",
       "      <td>1976</td>\n",
       "      <td>Ex</td>\n",
       "      <td>1262</td>\n",
       "      <td>0</td>\n",
       "      <td>TA</td>\n",
       "      <td>TA</td>\n",
       "      <td>TA</td>\n",
       "    </tr>\n",
       "    <tr>\n",
       "      <th>2</th>\n",
       "      <td>223500</td>\n",
       "      <td>11250</td>\n",
       "      <td>5</td>\n",
       "      <td>2001</td>\n",
       "      <td>2002</td>\n",
       "      <td>Ex</td>\n",
       "      <td>920</td>\n",
       "      <td>866</td>\n",
       "      <td>TA</td>\n",
       "      <td>TA</td>\n",
       "      <td>TA</td>\n",
       "    </tr>\n",
       "    <tr>\n",
       "      <th>3</th>\n",
       "      <td>140000</td>\n",
       "      <td>9550</td>\n",
       "      <td>5</td>\n",
       "      <td>1915</td>\n",
       "      <td>1970</td>\n",
       "      <td>Gd</td>\n",
       "      <td>961</td>\n",
       "      <td>756</td>\n",
       "      <td>TA</td>\n",
       "      <td>Gd</td>\n",
       "      <td>TA</td>\n",
       "    </tr>\n",
       "    <tr>\n",
       "      <th>4</th>\n",
       "      <td>250000</td>\n",
       "      <td>14260</td>\n",
       "      <td>5</td>\n",
       "      <td>2000</td>\n",
       "      <td>2000</td>\n",
       "      <td>Ex</td>\n",
       "      <td>1145</td>\n",
       "      <td>1053</td>\n",
       "      <td>TA</td>\n",
       "      <td>TA</td>\n",
       "      <td>TA</td>\n",
       "    </tr>\n",
       "  </tbody>\n",
       "</table>\n",
       "</div>\n",
       "      <button class=\"colab-df-convert\" onclick=\"convertToInteractive('df-6507e6c5-740f-45d7-8af3-de535cf997cc')\"\n",
       "              title=\"Convert this dataframe to an interactive table.\"\n",
       "              style=\"display:none;\">\n",
       "        \n",
       "  <svg xmlns=\"http://www.w3.org/2000/svg\" height=\"24px\"viewBox=\"0 0 24 24\"\n",
       "       width=\"24px\">\n",
       "    <path d=\"M0 0h24v24H0V0z\" fill=\"none\"/>\n",
       "    <path d=\"M18.56 5.44l.94 2.06.94-2.06 2.06-.94-2.06-.94-.94-2.06-.94 2.06-2.06.94zm-11 1L8.5 8.5l.94-2.06 2.06-.94-2.06-.94L8.5 2.5l-.94 2.06-2.06.94zm10 10l.94 2.06.94-2.06 2.06-.94-2.06-.94-.94-2.06-.94 2.06-2.06.94z\"/><path d=\"M17.41 7.96l-1.37-1.37c-.4-.4-.92-.59-1.43-.59-.52 0-1.04.2-1.43.59L10.3 9.45l-7.72 7.72c-.78.78-.78 2.05 0 2.83L4 21.41c.39.39.9.59 1.41.59.51 0 1.02-.2 1.41-.59l7.78-7.78 2.81-2.81c.8-.78.8-2.07 0-2.86zM5.41 20L4 18.59l7.72-7.72 1.47 1.35L5.41 20z\"/>\n",
       "  </svg>\n",
       "      </button>\n",
       "      \n",
       "  <style>\n",
       "    .colab-df-container {\n",
       "      display:flex;\n",
       "      flex-wrap:wrap;\n",
       "      gap: 12px;\n",
       "    }\n",
       "\n",
       "    .colab-df-convert {\n",
       "      background-color: #E8F0FE;\n",
       "      border: none;\n",
       "      border-radius: 50%;\n",
       "      cursor: pointer;\n",
       "      display: none;\n",
       "      fill: #1967D2;\n",
       "      height: 32px;\n",
       "      padding: 0 0 0 0;\n",
       "      width: 32px;\n",
       "    }\n",
       "\n",
       "    .colab-df-convert:hover {\n",
       "      background-color: #E2EBFA;\n",
       "      box-shadow: 0px 1px 2px rgba(60, 64, 67, 0.3), 0px 1px 3px 1px rgba(60, 64, 67, 0.15);\n",
       "      fill: #174EA6;\n",
       "    }\n",
       "\n",
       "    [theme=dark] .colab-df-convert {\n",
       "      background-color: #3B4455;\n",
       "      fill: #D2E3FC;\n",
       "    }\n",
       "\n",
       "    [theme=dark] .colab-df-convert:hover {\n",
       "      background-color: #434B5C;\n",
       "      box-shadow: 0px 1px 3px 1px rgba(0, 0, 0, 0.15);\n",
       "      filter: drop-shadow(0px 1px 2px rgba(0, 0, 0, 0.3));\n",
       "      fill: #FFFFFF;\n",
       "    }\n",
       "  </style>\n",
       "\n",
       "      <script>\n",
       "        const buttonEl =\n",
       "          document.querySelector('#df-6507e6c5-740f-45d7-8af3-de535cf997cc button.colab-df-convert');\n",
       "        buttonEl.style.display =\n",
       "          google.colab.kernel.accessAllowed ? 'block' : 'none';\n",
       "\n",
       "        async function convertToInteractive(key) {\n",
       "          const element = document.querySelector('#df-6507e6c5-740f-45d7-8af3-de535cf997cc');\n",
       "          const dataTable =\n",
       "            await google.colab.kernel.invokeFunction('convertToInteractive',\n",
       "                                                     [key], {});\n",
       "          if (!dataTable) return;\n",
       "\n",
       "          const docLinkHtml = 'Like what you see? Visit the ' +\n",
       "            '<a target=\"_blank\" href=https://colab.research.google.com/notebooks/data_table.ipynb>data table notebook</a>'\n",
       "            + ' to learn more about interactive tables.';\n",
       "          element.innerHTML = '';\n",
       "          dataTable['output_type'] = 'display_data';\n",
       "          await google.colab.output.renderOutput(dataTable, element);\n",
       "          const docLink = document.createElement('div');\n",
       "          docLink.innerHTML = docLinkHtml;\n",
       "          element.appendChild(docLink);\n",
       "        }\n",
       "      </script>\n",
       "    </div>\n",
       "  </div>\n",
       "  "
      ],
      "text/plain": [
       "   SalePrice  LotArea  OverallCond  YearBuilt  YearRemodAdd HeatingQC  \\\n",
       "0     208500     8450            5       2003          2003        Ex   \n",
       "1     181500     9600            8       1976          1976        Ex   \n",
       "2     223500    11250            5       2001          2002        Ex   \n",
       "3     140000     9550            5       1915          1970        Gd   \n",
       "4     250000    14260            5       2000          2000        Ex   \n",
       "\n",
       "   1stFlrSF  2ndFlrSF GarageCond BsmtCond ExterCond  \n",
       "0       856       854         TA       TA        TA  \n",
       "1      1262         0         TA       TA        TA  \n",
       "2       920       866         TA       TA        TA  \n",
       "3       961       756         TA       Gd        TA  \n",
       "4      1145      1053         TA       TA        TA  "
      ]
     },
     "execution_count": 23,
     "metadata": {},
     "output_type": "execute_result"
    }
   ],
   "source": [
    "house_select = house_train[['SalePrice','LotArea','OverallCond','YearBuilt','YearRemodAdd','HeatingQC','1stFlrSF','2ndFlrSF','GarageCond','BsmtCond','ExterCond']]\n",
    "\n",
    "house_select.head()"
   ]
  },
  {
   "cell_type": "code",
   "execution_count": 24,
   "metadata": {
    "colab": {
     "base_uri": "https://localhost:8080/",
     "height": 0
    },
    "id": "goK0EnbrgSmr",
    "outputId": "b6c6ddd3-94da-4c35-9c97-439b004a0103"
   },
   "outputs": [
    {
     "data": {
      "text/html": [
       "<style type=\"text/css\">\n",
       "#T_b4ef0_row0_col0, #T_b4ef0_row0_col1, #T_b4ef0_row0_col6 {\n",
       "  background-color: #cccccc;\n",
       "  color: #000000;\n",
       "  width: 10em;\n",
       "  height: 80%;\n",
       "  background: linear-gradient(90deg,peachpuff 100.0%, transparent 100.0%);\n",
       "}\n",
       "#T_b4ef0_row0_col2, #T_b4ef0_row0_col3, #T_b4ef0_row0_col4, #T_b4ef0_row0_col5, #T_b4ef0_row1_col5 {\n",
       "  background-color: #cccccc;\n",
       "  color: #000000;\n",
       "}\n",
       "#T_b4ef0_row1_col0 {\n",
       "  background-color: #cccccc;\n",
       "  color: #000000;\n",
       "  width: 10em;\n",
       "  height: 80%;\n",
       "  background: linear-gradient(90deg,peachpuff 5.8%, transparent 5.8%);\n",
       "}\n",
       "#T_b4ef0_row1_col1 {\n",
       "  background-color: #cccccc;\n",
       "  color: #000000;\n",
       "  width: 10em;\n",
       "  height: 80%;\n",
       "  background: linear-gradient(90deg,peachpuff 12.6%, transparent 12.6%);\n",
       "}\n",
       "#T_b4ef0_row1_col2, #T_b4ef0_row2_col2, #T_b4ef0_row2_col3, #T_b4ef0_row2_col4, #T_b4ef0_row2_col5, #T_b4ef0_row5_col2, #T_b4ef0_row5_col3, #T_b4ef0_row5_col4, #T_b4ef0_row5_col5, #T_b4ef0_row6_col2, #T_b4ef0_row6_col3, #T_b4ef0_row6_col4, #T_b4ef0_row6_col5 {\n",
       "  background-color: #b3e2cd;\n",
       "  color: #000000;\n",
       "}\n",
       "#T_b4ef0_row1_col3 {\n",
       "  background-color: #fff2ae;\n",
       "  color: #000000;\n",
       "}\n",
       "#T_b4ef0_row1_col4 {\n",
       "  background-color: #f1e2cc;\n",
       "  color: #000000;\n",
       "}\n",
       "#T_b4ef0_row1_col6 {\n",
       "  background-color: #cccccc;\n",
       "  color: #000000;\n",
       "  width: 10em;\n",
       "  height: 80%;\n",
       "  background: linear-gradient(90deg,peachpuff 28.5%, transparent 28.5%);\n",
       "}\n",
       "#T_b4ef0_row2_col0, #T_b4ef0_row2_col1, #T_b4ef0_row2_col6, #T_b4ef0_row3_col1, #T_b4ef0_row4_col1 {\n",
       "  background-color: #b3e2cd;\n",
       "  color: #000000;\n",
       "  width: 10em;\n",
       "  height: 80%;\n",
       "  background: linear-gradient(90deg,peachpuff 0.0%, transparent 0.0%);\n",
       "}\n",
       "#T_b4ef0_row3_col0, #T_b4ef0_row4_col0 {\n",
       "  background-color: #fdcdac;\n",
       "  color: #000000;\n",
       "  width: 10em;\n",
       "  height: 80%;\n",
       "  background: linear-gradient(90deg,peachpuff 1.1%, transparent 1.1%);\n",
       "}\n",
       "#T_b4ef0_row3_col2, #T_b4ef0_row3_col3, #T_b4ef0_row3_col4, #T_b4ef0_row3_col5, #T_b4ef0_row4_col2, #T_b4ef0_row4_col3, #T_b4ef0_row4_col4, #T_b4ef0_row4_col5 {\n",
       "  background-color: #fdcdac;\n",
       "  color: #000000;\n",
       "}\n",
       "#T_b4ef0_row3_col6, #T_b4ef0_row4_col6, #T_b4ef0_row6_col6 {\n",
       "  background-color: #fdcdac;\n",
       "  color: #000000;\n",
       "  width: 10em;\n",
       "  height: 80%;\n",
       "  background: linear-gradient(90deg,peachpuff 0.3%, transparent 0.3%);\n",
       "}\n",
       "#T_b4ef0_row5_col0 {\n",
       "  background-color: #b3e2cd;\n",
       "  color: #000000;\n",
       "  width: 10em;\n",
       "  height: 80%;\n",
       "  background: linear-gradient(90deg,peachpuff 0.6%, transparent 0.6%);\n",
       "}\n",
       "#T_b4ef0_row5_col1, #T_b4ef0_row6_col1 {\n",
       "  background-color: #b3e2cd;\n",
       "  color: #000000;\n",
       "  width: 10em;\n",
       "  height: 80%;\n",
       "  background: linear-gradient(90deg,peachpuff 0.5%, transparent 0.5%);\n",
       "}\n",
       "#T_b4ef0_row5_col6 {\n",
       "  background-color: #f4cae4;\n",
       "  color: #000000;\n",
       "  width: 10em;\n",
       "  height: 80%;\n",
       "  background: linear-gradient(90deg,peachpuff 0.6%, transparent 0.6%);\n",
       "}\n",
       "#T_b4ef0_row6_col0 {\n",
       "  background-color: #b3e2cd;\n",
       "  color: #000000;\n",
       "  width: 10em;\n",
       "  height: 80%;\n",
       "  background: linear-gradient(90deg,peachpuff 0.2%, transparent 0.2%);\n",
       "}\n",
       "</style>\n",
       "<table id=\"T_b4ef0_\" class=\"dataframe\">\n",
       "  <thead>\n",
       "    <tr>\n",
       "      <th class=\"blank level0\" >&nbsp;</th>\n",
       "      <th class=\"col_heading level0 col0\" >mean</th>\n",
       "      <th class=\"col_heading level0 col1\" >std</th>\n",
       "      <th class=\"col_heading level0 col2\" >min</th>\n",
       "      <th class=\"col_heading level0 col3\" >25%</th>\n",
       "      <th class=\"col_heading level0 col4\" >50%</th>\n",
       "      <th class=\"col_heading level0 col5\" >75%</th>\n",
       "      <th class=\"col_heading level0 col6\" >max</th>\n",
       "    </tr>\n",
       "  </thead>\n",
       "  <tbody>\n",
       "    <tr>\n",
       "      <th id=\"T_b4ef0_level0_row0\" class=\"row_heading level0 row0\" >SalePrice</th>\n",
       "      <td id=\"T_b4ef0_row0_col0\" class=\"data row0 col0\" >180921.195890</td>\n",
       "      <td id=\"T_b4ef0_row0_col1\" class=\"data row0 col1\" >79442.502883</td>\n",
       "      <td id=\"T_b4ef0_row0_col2\" class=\"data row0 col2\" >34900.000000</td>\n",
       "      <td id=\"T_b4ef0_row0_col3\" class=\"data row0 col3\" >129975.000000</td>\n",
       "      <td id=\"T_b4ef0_row0_col4\" class=\"data row0 col4\" >163000.000000</td>\n",
       "      <td id=\"T_b4ef0_row0_col5\" class=\"data row0 col5\" >214000.000000</td>\n",
       "      <td id=\"T_b4ef0_row0_col6\" class=\"data row0 col6\" >755000.000000</td>\n",
       "    </tr>\n",
       "    <tr>\n",
       "      <th id=\"T_b4ef0_level0_row1\" class=\"row_heading level0 row1\" >LotArea</th>\n",
       "      <td id=\"T_b4ef0_row1_col0\" class=\"data row1 col0\" >10516.828082</td>\n",
       "      <td id=\"T_b4ef0_row1_col1\" class=\"data row1 col1\" >9981.264932</td>\n",
       "      <td id=\"T_b4ef0_row1_col2\" class=\"data row1 col2\" >1300.000000</td>\n",
       "      <td id=\"T_b4ef0_row1_col3\" class=\"data row1 col3\" >7553.500000</td>\n",
       "      <td id=\"T_b4ef0_row1_col4\" class=\"data row1 col4\" >9478.500000</td>\n",
       "      <td id=\"T_b4ef0_row1_col5\" class=\"data row1 col5\" >11601.500000</td>\n",
       "      <td id=\"T_b4ef0_row1_col6\" class=\"data row1 col6\" >215245.000000</td>\n",
       "    </tr>\n",
       "    <tr>\n",
       "      <th id=\"T_b4ef0_level0_row2\" class=\"row_heading level0 row2\" >OverallCond</th>\n",
       "      <td id=\"T_b4ef0_row2_col0\" class=\"data row2 col0\" >5.575342</td>\n",
       "      <td id=\"T_b4ef0_row2_col1\" class=\"data row2 col1\" >1.112799</td>\n",
       "      <td id=\"T_b4ef0_row2_col2\" class=\"data row2 col2\" >1.000000</td>\n",
       "      <td id=\"T_b4ef0_row2_col3\" class=\"data row2 col3\" >5.000000</td>\n",
       "      <td id=\"T_b4ef0_row2_col4\" class=\"data row2 col4\" >5.000000</td>\n",
       "      <td id=\"T_b4ef0_row2_col5\" class=\"data row2 col5\" >6.000000</td>\n",
       "      <td id=\"T_b4ef0_row2_col6\" class=\"data row2 col6\" >9.000000</td>\n",
       "    </tr>\n",
       "    <tr>\n",
       "      <th id=\"T_b4ef0_level0_row3\" class=\"row_heading level0 row3\" >YearBuilt</th>\n",
       "      <td id=\"T_b4ef0_row3_col0\" class=\"data row3 col0\" >1971.267808</td>\n",
       "      <td id=\"T_b4ef0_row3_col1\" class=\"data row3 col1\" >30.202904</td>\n",
       "      <td id=\"T_b4ef0_row3_col2\" class=\"data row3 col2\" >1872.000000</td>\n",
       "      <td id=\"T_b4ef0_row3_col3\" class=\"data row3 col3\" >1954.000000</td>\n",
       "      <td id=\"T_b4ef0_row3_col4\" class=\"data row3 col4\" >1973.000000</td>\n",
       "      <td id=\"T_b4ef0_row3_col5\" class=\"data row3 col5\" >2000.000000</td>\n",
       "      <td id=\"T_b4ef0_row3_col6\" class=\"data row3 col6\" >2010.000000</td>\n",
       "    </tr>\n",
       "    <tr>\n",
       "      <th id=\"T_b4ef0_level0_row4\" class=\"row_heading level0 row4\" >YearRemodAdd</th>\n",
       "      <td id=\"T_b4ef0_row4_col0\" class=\"data row4 col0\" >1984.865753</td>\n",
       "      <td id=\"T_b4ef0_row4_col1\" class=\"data row4 col1\" >20.645407</td>\n",
       "      <td id=\"T_b4ef0_row4_col2\" class=\"data row4 col2\" >1950.000000</td>\n",
       "      <td id=\"T_b4ef0_row4_col3\" class=\"data row4 col3\" >1967.000000</td>\n",
       "      <td id=\"T_b4ef0_row4_col4\" class=\"data row4 col4\" >1994.000000</td>\n",
       "      <td id=\"T_b4ef0_row4_col5\" class=\"data row4 col5\" >2004.000000</td>\n",
       "      <td id=\"T_b4ef0_row4_col6\" class=\"data row4 col6\" >2010.000000</td>\n",
       "    </tr>\n",
       "    <tr>\n",
       "      <th id=\"T_b4ef0_level0_row5\" class=\"row_heading level0 row5\" >1stFlrSF</th>\n",
       "      <td id=\"T_b4ef0_row5_col0\" class=\"data row5 col0\" >1162.626712</td>\n",
       "      <td id=\"T_b4ef0_row5_col1\" class=\"data row5 col1\" >386.587738</td>\n",
       "      <td id=\"T_b4ef0_row5_col2\" class=\"data row5 col2\" >334.000000</td>\n",
       "      <td id=\"T_b4ef0_row5_col3\" class=\"data row5 col3\" >882.000000</td>\n",
       "      <td id=\"T_b4ef0_row5_col4\" class=\"data row5 col4\" >1087.000000</td>\n",
       "      <td id=\"T_b4ef0_row5_col5\" class=\"data row5 col5\" >1391.250000</td>\n",
       "      <td id=\"T_b4ef0_row5_col6\" class=\"data row5 col6\" >4692.000000</td>\n",
       "    </tr>\n",
       "    <tr>\n",
       "      <th id=\"T_b4ef0_level0_row6\" class=\"row_heading level0 row6\" >2ndFlrSF</th>\n",
       "      <td id=\"T_b4ef0_row6_col0\" class=\"data row6 col0\" >346.992466</td>\n",
       "      <td id=\"T_b4ef0_row6_col1\" class=\"data row6 col1\" >436.528436</td>\n",
       "      <td id=\"T_b4ef0_row6_col2\" class=\"data row6 col2\" >0.000000</td>\n",
       "      <td id=\"T_b4ef0_row6_col3\" class=\"data row6 col3\" >0.000000</td>\n",
       "      <td id=\"T_b4ef0_row6_col4\" class=\"data row6 col4\" >0.000000</td>\n",
       "      <td id=\"T_b4ef0_row6_col5\" class=\"data row6 col5\" >728.000000</td>\n",
       "      <td id=\"T_b4ef0_row6_col6\" class=\"data row6 col6\" >2065.000000</td>\n",
       "    </tr>\n",
       "  </tbody>\n",
       "</table>\n"
      ],
      "text/plain": [
       "<pandas.io.formats.style.Styler at 0x7fb0a9775c90>"
      ]
     },
     "execution_count": 24,
     "metadata": {},
     "output_type": "execute_result"
    }
   ],
   "source": [
    "house_select.describe()[1:].T.style.background_gradient(cmap= \"Pastel2\", axis=None, vmin=0, vmax=7500, high=0.5, text_color_threshold=0)\\\n",
    "                       .bar(subset=[\"mean\"], color=\"peachpuff\", vmin=0)\\\n",
    "                       .bar(subset=[\"std\"], color=\"peachpuff\", vmin=0)\\\n",
    "                       .bar(subset=[\"max\"], color=\"peachpuff\", vmin=0)                  "
   ]
  },
  {
   "cell_type": "markdown",
   "metadata": {
    "id": "DsYUSMsIIWhf"
   },
   "source": [
    "　　(2) Explore Categorical Data "
   ]
  },
  {
   "cell_type": "code",
   "execution_count": 25,
   "metadata": {
    "colab": {
     "base_uri": "https://localhost:8080/",
     "height": 0
    },
    "id": "SKcYTE3Qy1gr",
    "outputId": "e501bf7e-9914-4a85-a034-139bf515e32c"
   },
   "outputs": [
    {
     "data": {
      "image/png": "[encoded data removed]",
      "text/plain": [
       "<Figure size 720x432 with 1 Axes>"
      ]
     },
     "metadata": {
      "needs_background": "light"
     },
     "output_type": "display_data"
    }
   ],
   "source": [
    "plt.figure(figsize = (10,6))\n",
    "ax = sns.countplot(data = house_select, x = 'GarageCond', hue=\"GarageCond\")\n",
    "plt.title(\"Garage Condition\")\n",
    "plt.show()"
   ]
  },
  {
   "cell_type": "code",
   "execution_count": 26,
   "metadata": {
    "colab": {
     "base_uri": "https://localhost:8080/",
     "height": 0
    },
    "id": "bxzHour30kLr",
    "outputId": "5a28a7c3-cf7f-43a6-fadc-ff0b5c978559"
   },
   "outputs": [
    {
     "data": {
      "image/png": "[encoded data removed]",
      "text/plain": [
       "<Figure size 720x432 with 1 Axes>"
      ]
     },
     "metadata": {
      "needs_background": "light"
     },
     "output_type": "display_data"
    }
   ],
   "source": [
    "plt.figure(figsize = (10, 6))\n",
    "ax = sns.countplot(data = house_select, x = 'BsmtCond', hue=\"BsmtCond\")\n",
    "plt.title(\"Basement Condition\")\n",
    "plt.show()"
   ]
  },
  {
   "cell_type": "code",
   "execution_count": 27,
   "metadata": {
    "colab": {
     "base_uri": "https://localhost:8080/",
     "height": 0
    },
    "id": "w-hUwq4L0p1X",
    "outputId": "8757394f-97cf-4cbd-d23d-e7c9702487f7"
   },
   "outputs": [
    {
     "data": {
      "image/png": "[encoded data removed]",
      "text/plain": [
       "<Figure size 720x432 with 1 Axes>"
      ]
     },
     "metadata": {
      "needs_background": "light"
     },
     "output_type": "display_data"
    }
   ],
   "source": [
    "plt.figure(figsize = (10, 6))\n",
    "ax = sns.countplot(data = house_select, x = 'ExterCond', hue=\"ExterCond\")\n",
    "plt.title(\"House Exterior Condition\")\n",
    "plt.show()"
   ]
  },
  {
   "cell_type": "markdown",
   "metadata": {
    "id": "otTcG9dxIfxp"
   },
   "source": [
    "　　(3) Explore Continuous Data "
   ]
  },
  {
   "cell_type": "code",
   "execution_count": 28,
   "metadata": {
    "colab": {
     "base_uri": "https://localhost:8080/",
     "height": 0
    },
    "id": "HlPvV2CDf7cC",
    "outputId": "c5407cbd-f74a-40c1-b1fa-7d05e4dafd53"
   },
   "outputs": [
    {
     "data": {
      "image/png": "[encoded data removed]",
      "text/plain": [
       "<Figure size 2160x1080 with 9 Axes>"
      ]
     },
     "metadata": {
      "needs_background": "light"
     },
     "output_type": "display_data"
    }
   ],
   "source": [
    "house_select.hist(bins=10, figsize=(30,15))\n",
    "plt.show()"
   ]
  },
  {
   "cell_type": "markdown",
   "metadata": {
    "id": "YkASFoHG-swo"
   },
   "source": [
    "　　(4) Check the correlation between columns"
   ]
  },
  {
   "cell_type": "code",
   "execution_count": 29,
   "metadata": {
    "colab": {
     "base_uri": "https://localhost:8080/",
     "height": 0
    },
    "id": "QzkC_YiC-t8A",
    "outputId": "8a8cde69-ee85-429b-ccce-47df9a81f94a"
   },
   "outputs": [
    {
     "data": {
      "image/png": "[encoded data removed]",
      "text/plain": [
       "<Figure size 720x720 with 2 Axes>"
      ]
     },
     "metadata": {
      "needs_background": "light"
     },
     "output_type": "display_data"
    }
   ],
   "source": [
    "fig = plt.figure(figsize=(10., 10.))\n",
    "ax = sns.heatmap(house_select.corr(), vmin=-1., vmax=1., annot=True)"
   ]
  },
  {
   "cell_type": "markdown",
   "metadata": {
    "id": "aoNijX0mVURu"
   },
   "source": [
    "### **3. Algorithm and Methodology**\n",
    "\n",
    "**Import modules**"
   ]
  },
  {
   "cell_type": "code",
   "execution_count": 30,
   "metadata": {
    "id": "zo9h0VPBWVxe"
   },
   "outputs": [],
   "source": [
    "from sklearn.impute import SimpleImputer\n",
    "from sklearn.metrics import accuracy_score\n",
    "from sklearn.preprocessing import LabelEncoder\n",
    "from sklearn.model_selection import StratifiedKFold, train_test_split\n",
    "from sklearn.model_selection import train_test_split\n",
    "from sklearn.model_selection import GridSearchCV\n",
    "from sklearn.neighbors import KNeighborsClassifier\n",
    "from sklearn.ensemble import RandomForestClassifier\n",
    "from sklearn.linear_model import LogisticRegression \n",
    "from lightgbm import LGBMClassifier\n",
    "from xgboost import XGBClassifier\n",
    "from xgboost import plot_tree\n",
    "from xgboost import plot_importance\n",
    "from sklearn.naive_bayes import MultinomialNB\n",
    "from sklearn.naive_bayes import GaussianNB\n",
    "from IPython.display import clear_output"
   ]
  },
  {
   "cell_type": "markdown",
   "metadata": {
    "id": "qHA44IUo9_wB"
   },
   "source": [
    "### 3-1. Spaceship Titanic\n",
    "####**Preprocess the data**"
   ]
  },
  {
   "cell_type": "code",
   "execution_count": 31,
   "metadata": {
    "id": "lBgIsVPmdfZa"
   },
   "outputs": [],
   "source": [
    "t_train = pd.read_csv(\"/content/gdrive/My Drive/SemesterProject_data/titanic/train.csv\")\n",
    "t_test = pd.read_csv(\"/content/gdrive/My Drive/SemesterProject_data/titanic/test.csv\")"
   ]
  },
  {
   "cell_type": "code",
   "execution_count": 32,
   "metadata": {
    "colab": {
     "base_uri": "https://localhost:8080/"
    },
    "id": "NmdSMM6BHlpi",
    "outputId": "934578af-a91b-49f8-fe87-2e7b11ec4f7b"
   },
   "outputs": [
    {
     "data": {
      "text/plain": [
       "0    0013_01\n",
       "1    0018_01\n",
       "2    0019_01\n",
       "3    0021_01\n",
       "4    0023_01\n",
       "Name: PassengerId, dtype: object"
      ]
     },
     "execution_count": 32,
     "metadata": {},
     "output_type": "execute_result"
    }
   ],
   "source": [
    "test_passengerIds = t_test['PassengerId']\n",
    "test_passengerIds.head()"
   ]
  },
  {
   "cell_type": "code",
   "execution_count": 33,
   "metadata": {
    "id": "KWROJUltdmBL"
   },
   "outputs": [],
   "source": [
    "imputer_cols = [\"Age\", \"FoodCourt\", \"ShoppingMall\", \"Spa\", \"VRDeck\" ,\"RoomService\"]\n",
    "imputer = SimpleImputer(strategy='median')\n",
    "imputer.fit(t_train[imputer_cols])\n",
    "t_train[imputer_cols] = imputer.transform(t_train[imputer_cols])\n",
    "t_train[\"HomePlanet\"].fillna(t_train['HomePlanet'].mode()[0], inplace=True)\n",
    "\n",
    "t_test[imputer_cols] = imputer.transform(t_test[imputer_cols])\n",
    "t_test[\"HomePlanet\"].fillna(t_test[\"HomePlanet\"].mode()[0], inplace=True)"
   ]
  },
  {
   "cell_type": "code",
   "execution_count": 34,
   "metadata": {
    "colab": {
     "base_uri": "https://localhost:8080/"
    },
    "id": "pZosNwv4NVJS",
    "outputId": "97b6a4d0-8f53-4c55-85f2-df728d10074b"
   },
   "outputs": [
    {
     "data": {
      "text/plain": [
       "PassengerId       0\n",
       "HomePlanet        0\n",
       "CryoSleep       217\n",
       "Cabin           199\n",
       "Destination     182\n",
       "Age               0\n",
       "VIP             203\n",
       "RoomService       0\n",
       "FoodCourt         0\n",
       "ShoppingMall      0\n",
       "Spa               0\n",
       "VRDeck            0\n",
       "Name            200\n",
       "Transported       0\n",
       "dtype: int64"
      ]
     },
     "execution_count": 34,
     "metadata": {},
     "output_type": "execute_result"
    }
   ],
   "source": [
    "t_train.isnull().sum()"
   ]
  },
  {
   "cell_type": "code",
   "execution_count": 35,
   "metadata": {
    "id": "-3_fsFWUZvUJ"
   },
   "outputs": [],
   "source": [
    "label_cols = [\"HomePlanet\", \"CryoSleep\",\"Cabin\", \"Destination\" ,\"VIP\"]\n",
    "def label_encoder(predict_titanic_train,titanic_test, columns):\n",
    "    for col in columns:\n",
    "        predict_titanic_train[col] = predict_titanic_train[col].astype(str)\n",
    "        titanic_test[col] = titanic_test[col].astype(str)\n",
    "        predict_titanic_train[col] = LabelEncoder().fit_transform(predict_titanic_train[col])\n",
    "        titanic_test[col] = LabelEncoder().fit_transform(titanic_test[col])\n",
    "    return predict_titanic_train, titanic_test\n",
    "\n",
    "predict_titanic_train ,titanic_test = label_encoder(t_train,t_test,label_cols)"
   ]
  },
  {
   "cell_type": "code",
   "execution_count": 36,
   "metadata": {
    "colab": {
     "base_uri": "https://localhost:8080/",
     "height": 206
    },
    "id": "nQ9zGPQkWlVQ",
    "outputId": "f4bccfc9-fa38-4d78-bcde-e3bb91eaa5dd"
   },
   "outputs": [
    {
     "data": {
      "text/html": [
       "\n",
       "  <div id=\"df-b368e5b4-05e1-4f49-8493-9b390a554bb4\">\n",
       "    <div class=\"colab-df-container\">\n",
       "      <div>\n",
       "<style scoped>\n",
       "    .dataframe tbody tr th:only-of-type {\n",
       "        vertical-align: middle;\n",
       "    }\n",
       "\n",
       "    .dataframe tbody tr th {\n",
       "        vertical-align: top;\n",
       "    }\n",
       "\n",
       "    .dataframe thead th {\n",
       "        text-align: right;\n",
       "    }\n",
       "</style>\n",
       "<table border=\"1\" class=\"dataframe\">\n",
       "  <thead>\n",
       "    <tr style=\"text-align: right;\">\n",
       "      <th></th>\n",
       "      <th>PassengerId</th>\n",
       "      <th>HomePlanet</th>\n",
       "      <th>CryoSleep</th>\n",
       "      <th>Cabin</th>\n",
       "      <th>Destination</th>\n",
       "      <th>Age</th>\n",
       "      <th>VIP</th>\n",
       "      <th>RoomService</th>\n",
       "      <th>FoodCourt</th>\n",
       "      <th>ShoppingMall</th>\n",
       "      <th>Spa</th>\n",
       "      <th>VRDeck</th>\n",
       "      <th>Name</th>\n",
       "      <th>Transported</th>\n",
       "    </tr>\n",
       "  </thead>\n",
       "  <tbody>\n",
       "    <tr>\n",
       "      <th>0</th>\n",
       "      <td>0001_01</td>\n",
       "      <td>1</td>\n",
       "      <td>0</td>\n",
       "      <td>149</td>\n",
       "      <td>2</td>\n",
       "      <td>39.0</td>\n",
       "      <td>0</td>\n",
       "      <td>0.0</td>\n",
       "      <td>0.0</td>\n",
       "      <td>0.0</td>\n",
       "      <td>0.0</td>\n",
       "      <td>0.0</td>\n",
       "      <td>Maham Ofracculy</td>\n",
       "      <td>False</td>\n",
       "    </tr>\n",
       "    <tr>\n",
       "      <th>1</th>\n",
       "      <td>0002_01</td>\n",
       "      <td>0</td>\n",
       "      <td>0</td>\n",
       "      <td>2184</td>\n",
       "      <td>2</td>\n",
       "      <td>24.0</td>\n",
       "      <td>0</td>\n",
       "      <td>109.0</td>\n",
       "      <td>9.0</td>\n",
       "      <td>25.0</td>\n",
       "      <td>549.0</td>\n",
       "      <td>44.0</td>\n",
       "      <td>Juanna Vines</td>\n",
       "      <td>True</td>\n",
       "    </tr>\n",
       "    <tr>\n",
       "      <th>2</th>\n",
       "      <td>0003_01</td>\n",
       "      <td>1</td>\n",
       "      <td>0</td>\n",
       "      <td>1</td>\n",
       "      <td>2</td>\n",
       "      <td>58.0</td>\n",
       "      <td>1</td>\n",
       "      <td>43.0</td>\n",
       "      <td>3576.0</td>\n",
       "      <td>0.0</td>\n",
       "      <td>6715.0</td>\n",
       "      <td>49.0</td>\n",
       "      <td>Altark Susent</td>\n",
       "      <td>False</td>\n",
       "    </tr>\n",
       "    <tr>\n",
       "      <th>3</th>\n",
       "      <td>0003_02</td>\n",
       "      <td>1</td>\n",
       "      <td>0</td>\n",
       "      <td>1</td>\n",
       "      <td>2</td>\n",
       "      <td>33.0</td>\n",
       "      <td>0</td>\n",
       "      <td>0.0</td>\n",
       "      <td>1283.0</td>\n",
       "      <td>371.0</td>\n",
       "      <td>3329.0</td>\n",
       "      <td>193.0</td>\n",
       "      <td>Solam Susent</td>\n",
       "      <td>False</td>\n",
       "    </tr>\n",
       "    <tr>\n",
       "      <th>4</th>\n",
       "      <td>0004_01</td>\n",
       "      <td>0</td>\n",
       "      <td>0</td>\n",
       "      <td>2186</td>\n",
       "      <td>2</td>\n",
       "      <td>16.0</td>\n",
       "      <td>0</td>\n",
       "      <td>303.0</td>\n",
       "      <td>70.0</td>\n",
       "      <td>151.0</td>\n",
       "      <td>565.0</td>\n",
       "      <td>2.0</td>\n",
       "      <td>Willy Santantines</td>\n",
       "      <td>True</td>\n",
       "    </tr>\n",
       "  </tbody>\n",
       "</table>\n",
       "</div>\n",
       "      <button class=\"colab-df-convert\" onclick=\"convertToInteractive('df-b368e5b4-05e1-4f49-8493-9b390a554bb4')\"\n",
       "              title=\"Convert this dataframe to an interactive table.\"\n",
       "              style=\"display:none;\">\n",
       "        \n",
       "  <svg xmlns=\"http://www.w3.org/2000/svg\" height=\"24px\"viewBox=\"0 0 24 24\"\n",
       "       width=\"24px\">\n",
       "    <path d=\"M0 0h24v24H0V0z\" fill=\"none\"/>\n",
       "    <path d=\"M18.56 5.44l.94 2.06.94-2.06 2.06-.94-2.06-.94-.94-2.06-.94 2.06-2.06.94zm-11 1L8.5 8.5l.94-2.06 2.06-.94-2.06-.94L8.5 2.5l-.94 2.06-2.06.94zm10 10l.94 2.06.94-2.06 2.06-.94-2.06-.94-.94-2.06-.94 2.06-2.06.94z\"/><path d=\"M17.41 7.96l-1.37-1.37c-.4-.4-.92-.59-1.43-.59-.52 0-1.04.2-1.43.59L10.3 9.45l-7.72 7.72c-.78.78-.78 2.05 0 2.83L4 21.41c.39.39.9.59 1.41.59.51 0 1.02-.2 1.41-.59l7.78-7.78 2.81-2.81c.8-.78.8-2.07 0-2.86zM5.41 20L4 18.59l7.72-7.72 1.47 1.35L5.41 20z\"/>\n",
       "  </svg>\n",
       "      </button>\n",
       "      \n",
       "  <style>\n",
       "    .colab-df-container {\n",
       "      display:flex;\n",
       "      flex-wrap:wrap;\n",
       "      gap: 12px;\n",
       "    }\n",
       "\n",
       "    .colab-df-convert {\n",
       "      background-color: #E8F0FE;\n",
       "      border: none;\n",
       "      border-radius: 50%;\n",
       "      cursor: pointer;\n",
       "      display: none;\n",
       "      fill: #1967D2;\n",
       "      height: 32px;\n",
       "      padding: 0 0 0 0;\n",
       "      width: 32px;\n",
       "    }\n",
       "\n",
       "    .colab-df-convert:hover {\n",
       "      background-color: #E2EBFA;\n",
       "      box-shadow: 0px 1px 2px rgba(60, 64, 67, 0.3), 0px 1px 3px 1px rgba(60, 64, 67, 0.15);\n",
       "      fill: #174EA6;\n",
       "    }\n",
       "\n",
       "    [theme=dark] .colab-df-convert {\n",
       "      background-color: #3B4455;\n",
       "      fill: #D2E3FC;\n",
       "    }\n",
       "\n",
       "    [theme=dark] .colab-df-convert:hover {\n",
       "      background-color: #434B5C;\n",
       "      box-shadow: 0px 1px 3px 1px rgba(0, 0, 0, 0.15);\n",
       "      filter: drop-shadow(0px 1px 2px rgba(0, 0, 0, 0.3));\n",
       "      fill: #FFFFFF;\n",
       "    }\n",
       "  </style>\n",
       "\n",
       "      <script>\n",
       "        const buttonEl =\n",
       "          document.querySelector('#df-b368e5b4-05e1-4f49-8493-9b390a554bb4 button.colab-df-convert');\n",
       "        buttonEl.style.display =\n",
       "          google.colab.kernel.accessAllowed ? 'block' : 'none';\n",
       "\n",
       "        async function convertToInteractive(key) {\n",
       "          const element = document.querySelector('#df-b368e5b4-05e1-4f49-8493-9b390a554bb4');\n",
       "          const dataTable =\n",
       "            await google.colab.kernel.invokeFunction('convertToInteractive',\n",
       "                                                     [key], {});\n",
       "          if (!dataTable) return;\n",
       "\n",
       "          const docLinkHtml = 'Like what you see? Visit the ' +\n",
       "            '<a target=\"_blank\" href=https://colab.research.google.com/notebooks/data_table.ipynb>data table notebook</a>'\n",
       "            + ' to learn more about interactive tables.';\n",
       "          element.innerHTML = '';\n",
       "          dataTable['output_type'] = 'display_data';\n",
       "          await google.colab.output.renderOutput(dataTable, element);\n",
       "          const docLink = document.createElement('div');\n",
       "          docLink.innerHTML = docLinkHtml;\n",
       "          element.appendChild(docLink);\n",
       "        }\n",
       "      </script>\n",
       "    </div>\n",
       "  </div>\n",
       "  "
      ],
      "text/plain": [
       "  PassengerId  HomePlanet  CryoSleep  Cabin  Destination   Age  VIP  \\\n",
       "0     0001_01           1          0    149            2  39.0    0   \n",
       "1     0002_01           0          0   2184            2  24.0    0   \n",
       "2     0003_01           1          0      1            2  58.0    1   \n",
       "3     0003_02           1          0      1            2  33.0    0   \n",
       "4     0004_01           0          0   2186            2  16.0    0   \n",
       "\n",
       "   RoomService  FoodCourt  ShoppingMall     Spa  VRDeck               Name  \\\n",
       "0          0.0        0.0           0.0     0.0     0.0    Maham Ofracculy   \n",
       "1        109.0        9.0          25.0   549.0    44.0       Juanna Vines   \n",
       "2         43.0     3576.0           0.0  6715.0    49.0      Altark Susent   \n",
       "3          0.0     1283.0         371.0  3329.0   193.0       Solam Susent   \n",
       "4        303.0       70.0         151.0   565.0     2.0  Willy Santantines   \n",
       "\n",
       "   Transported  \n",
       "0        False  \n",
       "1         True  \n",
       "2        False  \n",
       "3        False  \n",
       "4         True  "
      ]
     },
     "execution_count": 36,
     "metadata": {},
     "output_type": "execute_result"
    }
   ],
   "source": [
    "t_train.head()"
   ]
  },
  {
   "cell_type": "code",
   "execution_count": 37,
   "metadata": {
    "id": "Hdm862jwayT-"
   },
   "outputs": [],
   "source": [
    "predict_titanic_train.drop([\"Name\"] , axis = 1 ,inplace = True)\n",
    "titanic_test.drop([\"Name\"] , axis = 1 ,inplace = True)\n",
    "\n",
    "X = predict_titanic_train.drop(\"Transported\" , axis =1 )\n",
    "y = predict_titanic_train[\"Transported\"]\n",
    "X_train , X_test , y_train , y_test = train_test_split(X , \n",
    "                                                       y, test_size =0.2,\n",
    "                                                       random_state = 40)"
   ]
  },
  {
   "cell_type": "markdown",
   "metadata": {
    "id": "klUXQcJbejOA"
   },
   "source": [
    "####**Models**"
   ]
  },
  {
   "cell_type": "markdown",
   "metadata": {
    "id": "I-giUpJp85-Q"
   },
   "source": [
    "1. **KNN**\n"
   ]
  },
  {
   "cell_type": "code",
   "execution_count": 44,
   "metadata": {
    "colab": {
     "base_uri": "https://localhost:8080/"
    },
    "id": "4w8vFevpEqVC",
    "outputId": "456d3cd1-083c-48aa-c273-6d76ccc9239a"
   },
   "outputs": [
    {
     "name": "stdout",
     "output_type": "stream",
     "text": [
      "Best Parameters :  {'metric': 'minkowski', 'n_neighbors': 9, 'p': 1}\n",
      "\n",
      "Best Accuracy : 68.0%\n"
     ]
    }
   ],
   "source": [
    "parameters = {'n_neighbors': [3, 4, 5, 6, 7, 9, 11],\n",
    "            'p': [1, 2],\n",
    "            'metric': ['euclidean', 'minkowski']}\n",
    "\n",
    "knn_model = KNeighborsClassifier()\n",
    "gs = GridSearchCV(knn_model, param_grid = parameters, cv = 5, scoring = 'accuracy', n_jobs= -1)\n",
    "gs.fit(X_train, y_train)\n",
    "\n",
    "print('Best Parameters : ',gs.best_params_)\n",
    "print()\n",
    "print('Best Accuracy : ' + str(round(gs.best_score_,2)*100) + \"%\")"
   ]
  },
  {
   "cell_type": "markdown",
   "metadata": {
    "id": "dpkpH_orLeaj"
   },
   "source": [
    "2. **Gaussian Naive Bayes**"
   ]
  },
  {
   "cell_type": "code",
   "execution_count": 43,
   "metadata": {
    "colab": {
     "base_uri": "https://localhost:8080/"
    },
    "id": "dFC-_IgWDYiP",
    "outputId": "bc3ffe54-00f6-4627-9dfa-83c211e96301"
   },
   "outputs": [
    {
     "name": "stdout",
     "output_type": "stream",
     "text": [
      "Best Parameters :  {'var_smoothing': 1e-10}\n",
      "\n",
      "Best Accuracy : 70.0%\n"
     ]
    }
   ],
   "source": [
    "param_grid={'var_smoothing': [1e-10, 1e-9, 1e-8, 1e-7]}\n",
    "\n",
    "NB = GaussianNB()\n",
    "gs = GridSearchCV(estimator = NB, param_grid = param_grid, scoring='accuracy', cv = 5, n_jobs=-1 )\n",
    "gs.fit(X_train, y_train)\n",
    "print('Best Parameters : ', gs.best_params_)\n",
    "print()\n",
    "print('Best Accuracy : ' + str(round(gs.best_score_,2)*100) + \"%\")"
   ]
  },
  {
   "cell_type": "markdown",
   "metadata": {
    "id": "dPynqTcl9Eze"
   },
   "source": [
    "3. **Logistic Regression**"
   ]
  },
  {
   "cell_type": "code",
   "execution_count": 42,
   "metadata": {
    "colab": {
     "base_uri": "https://localhost:8080/"
    },
    "id": "g8XVttx76WwN",
    "outputId": "22859456-84b0-4aee-907a-d00a09b8dbf7"
   },
   "outputs": [
    {
     "name": "stderr",
     "output_type": "stream",
     "text": [
      "/usr/local/lib/python3.7/dist-packages/sklearn/model_selection/_validation.py:372: FitFailedWarning: \n",
      "90 fits failed out of a total of 180.\n",
      "The score on these train-test partitions for these parameters will be set to nan.\n",
      "If these failures are not expected, you can try to debug them by setting error_score='raise'.\n",
      "\n",
      "Below are more details about the failures:\n",
      "--------------------------------------------------------------------------------\n",
      "90 fits failed with the following error:\n",
      "Traceback (most recent call last):\n",
      "  File \"/usr/local/lib/python3.7/dist-packages/sklearn/model_selection/_validation.py\", line 680, in _fit_and_score\n",
      "    estimator.fit(X_train, y_train, **fit_params)\n",
      "  File \"/usr/local/lib/python3.7/dist-packages/sklearn/linear_model/_logistic.py\", line 1461, in fit\n",
      "    solver = _check_solver(self.solver, self.penalty, self.dual)\n",
      "  File \"/usr/local/lib/python3.7/dist-packages/sklearn/linear_model/_logistic.py\", line 449, in _check_solver\n",
      "    % (solver, penalty)\n",
      "ValueError: Solver lbfgs supports only 'l2' or 'none' penalties, got l1 penalty.\n",
      "\n",
      "  warnings.warn(some_fits_failed_message, FitFailedWarning)\n",
      "/usr/local/lib/python3.7/dist-packages/sklearn/model_selection/_search.py:972: UserWarning: One or more of the test scores are non-finite: [       nan 0.75916607        nan 0.77900791        nan 0.78116463\n",
      "        nan 0.75916607        nan 0.77771387        nan 0.77958303\n",
      "        nan 0.75916607        nan 0.77900791        nan 0.77872035\n",
      "        nan 0.75916607        nan 0.77915169        nan 0.77541337\n",
      "        nan 0.75916607        nan 0.77785766        nan 0.77814522\n",
      "        nan 0.75916607        nan 0.77872035        nan 0.77886413]\n",
      "  category=UserWarning,\n"
     ]
    },
    {
     "name": "stdout",
     "output_type": "stream",
     "text": [
      "Best Parameters :  {'C': 0.25, 'max_iter': 150, 'penalty': 'l2'}\n",
      "\n",
      "Best Accuracy :  78.0%\n",
      "Run Time: 7.48s\n"
     ]
    },
    {
     "name": "stderr",
     "output_type": "stream",
     "text": [
      "/usr/local/lib/python3.7/dist-packages/sklearn/linear_model/_logistic.py:818: ConvergenceWarning: lbfgs failed to converge (status=1):\n",
      "STOP: TOTAL NO. of ITERATIONS REACHED LIMIT.\n",
      "\n",
      "Increase the number of iterations (max_iter) or scale the data as shown in:\n",
      "    https://scikit-learn.org/stable/modules/preprocessing.html\n",
      "Please also refer to the documentation for alternative solver options:\n",
      "    https://scikit-learn.org/stable/modules/linear_model.html#logistic-regression\n",
      "  extra_warning_msg=_LOGISTIC_SOLVER_CONVERGENCE_MSG,\n"
     ]
    }
   ],
   "source": [
    "lr_model= LogisticRegression()\n",
    "param_grid = {'penalty': ['l1','l2'],\n",
    "           'C': [0.25, 0.5, 0.75, 1, 1.25, 1.5],\n",
    "           'max_iter': [50, 100, 150]}\n",
    "\n",
    "gs = gs = GridSearchCV(estimator = lr_model, param_grid = param_grid, scoring='accuracy', cv = 5, n_jobs=-1 )\n",
    "start_time = time.time()\n",
    "gs.fit(X_train, y_train)\n",
    "run_time = time.time() - start_time\n",
    "\n",
    "print('Best Parameters : ', gs.best_params_)\n",
    "print()\n",
    "print('Best Accuracy : ', str(round(gs.best_score_,2)*100) + \"%\")\n",
    "print(f\"Run Time: {run_time:.2f}s\")"
   ]
  },
  {
   "cell_type": "markdown",
   "metadata": {
    "id": "phXjqjV2GbBm"
   },
   "source": [
    "4. **Using RandomForest - Ensemble Method ( Bagging )**"
   ]
  },
  {
   "cell_type": "code",
   "execution_count": 45,
   "metadata": {
    "colab": {
     "base_uri": "https://localhost:8080/"
    },
    "id": "LtW86q-cDH3F",
    "outputId": "d28a6211-c75d-430f-b52e-93dffa2336a7"
   },
   "outputs": [
    {
     "name": "stdout",
     "output_type": "stream",
     "text": [
      "Best Parameters :  {'max_depth': 11, 'min_samples_leaf': 20, 'min_samples_split': 10, 'n_estimators': 20}\n",
      "\n",
      "Best Accuracy :  78.0%\n",
      "Run Time: 89.09s\n"
     ]
    }
   ],
   "source": [
    "parameters = {\n",
    "    \"n_estimators\": [5, 10, 15, 20, 25], \n",
    "    \"max_depth\": [3, 5, 7, 9, 11, 12],\n",
    "    \"min_samples_leaf\" : [18, 19, 20],\n",
    "    \"min_samples_split\" : [8, 9, 10]\n",
    "}\n",
    "\n",
    "RFC_Model = RandomForestClassifier()\n",
    "gs = GridSearchCV(RFC_Model, param_grid = parameters, cv = 5, scoring = 'accuracy', n_jobs= -1)\n",
    "\n",
    "start_time = time.time()\n",
    "gs.fit(X_train, y_train)\n",
    "run_time = time.time() - start_time\n",
    "\n",
    "print('Best Parameters : ', gs.best_params_)\n",
    "print()\n",
    "print('Best Accuracy : ', str(round(gs.best_score_,2)*100) + \"%\")\n",
    "print(f\"Run Time: {run_time:.2f}s\")"
   ]
  },
  {
   "cell_type": "markdown",
   "metadata": {
    "id": "XzMtdKymLSHx"
   },
   "source": [
    "5. **XGB Boost - Ensemble Method ( Boosting )**"
   ]
  },
  {
   "cell_type": "code",
   "execution_count": 40,
   "metadata": {
    "colab": {
     "base_uri": "https://localhost:8080/"
    },
    "id": "UUWj68--XJX5",
    "outputId": "3c24d70d-107f-4259-90d5-1bb500880aa7"
   },
   "outputs": [
    {
     "name": "stdout",
     "output_type": "stream",
     "text": [
      "Best parameters: {'eval_metric': 'mlogloss', 'learning_rate': 0.15, 'n_estimators': 10}\n",
      "\n",
      "Best Accuracy :  77.0%\n",
      "Run Time: 19.71s\n"
     ]
    }
   ],
   "source": [
    "param_grid = {'n_estimators': [10, 25, 50, 75, 100],\n",
    "              'learning_rate': [0.2, 0.15, 0.1, 0.05],\n",
    "              'eval_metric': ['mlogloss']}\n",
    "\n",
    "gs = GridSearchCV(XGBClassifier(), param_grid=param_grid, cv=5, scoring='accuracy')\n",
    "start_time = time.time()\n",
    "gs.fit(X_train, y_train)\n",
    "run_time = time.time() - start_time\n",
    "\n",
    "\n",
    "print('Best parameters:', gs.best_params_)\n",
    "print()\n",
    "print('Best Accuracy : ', str(round(gs.best_score_,2)*100) + \"%\")\n",
    "print(f\"Run Time: {run_time:.2f}s\")"
   ]
  },
  {
   "cell_type": "markdown",
   "metadata": {
    "id": "_5BMzth-AD5v"
   },
   "source": [
    "6. **LightGBM: 5-folds - Ensemble Method ( Boostng )**"
   ]
  },
  {
   "cell_type": "code",
   "execution_count": 38,
   "metadata": {
    "id": "j_TLZMfYgF7v"
   },
   "outputs": [],
   "source": [
    "from sklearn import preprocessing \n",
    "lbl = preprocessing.LabelEncoder() \n",
    "predict_titanic_train['PassengerId'] = lbl.fit_transform(predict_titanic_train['PassengerId'].astype(str))\n",
    "titanic_test['PassengerId'] = lbl.fit_transform(titanic_test['PassengerId'].astype(str))"
   ]
  },
  {
   "cell_type": "code",
   "execution_count": 39,
   "metadata": {
    "colab": {
     "base_uri": "https://localhost:8080/"
    },
    "id": "mCcp4E6PfM2i",
    "outputId": "9c6f4759-1ae0-4f23-e0e3-f90595049fb4"
   },
   "outputs": [
    {
     "name": "stdout",
     "output_type": "stream",
     "text": [
      "\u001b[94m\n",
      "========== Fold=1 ==========\n",
      "Fold=1, Accuracy score: 0.821%, Run Time: 0.17s\n",
      "\u001b[94m\n",
      "========== Fold=2 ==========\n",
      "Fold=2, Accuracy score: 0.788%, Run Time: 0.16s\n",
      "\u001b[94m\n",
      "========== Fold=3 ==========\n",
      "Fold=3, Accuracy score: 0.797%, Run Time: 0.36s\n",
      "\u001b[94m\n",
      "========== Fold=4 ==========\n",
      "Fold=4, Accuracy score: 0.804%, Run Time: 0.16s\n",
      "\u001b[94m\n",
      "========== Fold=5 ==========\n",
      "Fold=5, Accuracy score: 0.807%, Run Time: 0.18s\n",
      "\n",
      "Mean Accuracy : 80.0%\n"
     ]
    }
   ],
   "source": [
    "lgb_params = {\n",
    "    'objective' : 'binary',\n",
    "    'n_estimators' :50,\n",
    "    'learning_rate' : 0.08\n",
    "}\n",
    "\n",
    "lgb_predictions = 0\n",
    "lgb_scores = []\n",
    "lgb_fimp = []\n",
    "\n",
    "LGBM_FEATURES = list(predict_titanic_train.columns)[:-1]\n",
    "skf = StratifiedKFold(n_splits= 5, shuffle=True, random_state=12)\n",
    "for fold, (train_idx, valid_idx) in enumerate(skf.split(predict_titanic_train[LGBM_FEATURES], predict_titanic_train[\"Transported\"])):\n",
    "    print(f'\\033[94m')\n",
    "    print(10*\"=\", f\"Fold={fold+1}\", 10*\"=\")\n",
    "    start_time = time.time()\n",
    "    \n",
    "    X_train, X_test = predict_titanic_train.iloc[train_idx][LGBM_FEATURES], predict_titanic_train.iloc[valid_idx][LGBM_FEATURES]\n",
    "    y_train , y_test = predict_titanic_train[\"Transported\"].iloc[train_idx] , predict_titanic_train[\"Transported\"].iloc[valid_idx]\n",
    "    \n",
    "    model = LGBMClassifier(**lgb_params)\n",
    "    model.fit(X_train, y_train,verbose=0)\n",
    "    \n",
    "    preds_valid = model.predict(X_test)\n",
    "    acc = accuracy_score(y_test,  preds_valid)\n",
    "    lgb_scores.append(acc)\n",
    "    run_time = time.time() - start_time\n",
    "    \n",
    "    fim = pd.DataFrame(index=LGBM_FEATURES,\n",
    "                 data=model.feature_importances_,\n",
    "                 columns=[f'{fold}_importance'])\n",
    "    lgb_fimp.append(fim)\n",
    "    \n",
    "    print(f\"Fold={fold+1}, Accuracy score: {acc:.3f}%, Run Time: {run_time:.2f}s\")\n",
    "    test_preds = model.predict(titanic_test[LGBM_FEATURES]) \n",
    "    lgb_predictions += test_preds/5\n",
    "print(\"\")\n",
    "print(\"Mean Accuracy :\", str(round(np.mean(lgb_scores),2)*100) + \"%\")"
   ]
  },
  {
   "cell_type": "markdown",
   "metadata": {
    "id": "ZsNSThgzcxov"
   },
   "source": [
    "\n",
    "\n",
    "> **Summary**  \n",
    "Out of the six models, LGBM model was the most accurate with 80%. Therefore, based on this model, the predicted data frame is formed as \"titanic_result\" to store the predicted values.\n",
    "\n",
    "\n"
   ]
  },
  {
   "cell_type": "code",
   "execution_count": 46,
   "metadata": {
    "id": "0F-y9zBf66EM"
   },
   "outputs": [],
   "source": [
    "titanic_result = pd.DataFrame(index=range(0,len(lgb_predictions)), columns=['PassengerId', 'Transported'])"
   ]
  },
  {
   "cell_type": "code",
   "execution_count": 47,
   "metadata": {
    "colab": {
     "base_uri": "https://localhost:8080/",
     "height": 206
    },
    "id": "hpCap1zf6fG2",
    "outputId": "4b354048-8420-4fa4-c68c-898676eab2af"
   },
   "outputs": [
    {
     "data": {
      "text/html": [
       "\n",
       "  <div id=\"df-eba0753d-bae1-4438-94d2-9ba6890d58a3\">\n",
       "    <div class=\"colab-df-container\">\n",
       "      <div>\n",
       "<style scoped>\n",
       "    .dataframe tbody tr th:only-of-type {\n",
       "        vertical-align: middle;\n",
       "    }\n",
       "\n",
       "    .dataframe tbody tr th {\n",
       "        vertical-align: top;\n",
       "    }\n",
       "\n",
       "    .dataframe thead th {\n",
       "        text-align: right;\n",
       "    }\n",
       "</style>\n",
       "<table border=\"1\" class=\"dataframe\">\n",
       "  <thead>\n",
       "    <tr style=\"text-align: right;\">\n",
       "      <th></th>\n",
       "      <th>PassengerId</th>\n",
       "      <th>Transported</th>\n",
       "    </tr>\n",
       "  </thead>\n",
       "  <tbody>\n",
       "    <tr>\n",
       "      <th>0</th>\n",
       "      <td>0013_01</td>\n",
       "      <td>True</td>\n",
       "    </tr>\n",
       "    <tr>\n",
       "      <th>1</th>\n",
       "      <td>0018_01</td>\n",
       "      <td>False</td>\n",
       "    </tr>\n",
       "    <tr>\n",
       "      <th>2</th>\n",
       "      <td>0019_01</td>\n",
       "      <td>True</td>\n",
       "    </tr>\n",
       "    <tr>\n",
       "      <th>3</th>\n",
       "      <td>0021_01</td>\n",
       "      <td>True</td>\n",
       "    </tr>\n",
       "    <tr>\n",
       "      <th>4</th>\n",
       "      <td>0023_01</td>\n",
       "      <td>True</td>\n",
       "    </tr>\n",
       "  </tbody>\n",
       "</table>\n",
       "</div>\n",
       "      <button class=\"colab-df-convert\" onclick=\"convertToInteractive('df-eba0753d-bae1-4438-94d2-9ba6890d58a3')\"\n",
       "              title=\"Convert this dataframe to an interactive table.\"\n",
       "              style=\"display:none;\">\n",
       "        \n",
       "  <svg xmlns=\"http://www.w3.org/2000/svg\" height=\"24px\"viewBox=\"0 0 24 24\"\n",
       "       width=\"24px\">\n",
       "    <path d=\"M0 0h24v24H0V0z\" fill=\"none\"/>\n",
       "    <path d=\"M18.56 5.44l.94 2.06.94-2.06 2.06-.94-2.06-.94-.94-2.06-.94 2.06-2.06.94zm-11 1L8.5 8.5l.94-2.06 2.06-.94-2.06-.94L8.5 2.5l-.94 2.06-2.06.94zm10 10l.94 2.06.94-2.06 2.06-.94-2.06-.94-.94-2.06-.94 2.06-2.06.94z\"/><path d=\"M17.41 7.96l-1.37-1.37c-.4-.4-.92-.59-1.43-.59-.52 0-1.04.2-1.43.59L10.3 9.45l-7.72 7.72c-.78.78-.78 2.05 0 2.83L4 21.41c.39.39.9.59 1.41.59.51 0 1.02-.2 1.41-.59l7.78-7.78 2.81-2.81c.8-.78.8-2.07 0-2.86zM5.41 20L4 18.59l7.72-7.72 1.47 1.35L5.41 20z\"/>\n",
       "  </svg>\n",
       "      </button>\n",
       "      \n",
       "  <style>\n",
       "    .colab-df-container {\n",
       "      display:flex;\n",
       "      flex-wrap:wrap;\n",
       "      gap: 12px;\n",
       "    }\n",
       "\n",
       "    .colab-df-convert {\n",
       "      background-color: #E8F0FE;\n",
       "      border: none;\n",
       "      border-radius: 50%;\n",
       "      cursor: pointer;\n",
       "      display: none;\n",
       "      fill: #1967D2;\n",
       "      height: 32px;\n",
       "      padding: 0 0 0 0;\n",
       "      width: 32px;\n",
       "    }\n",
       "\n",
       "    .colab-df-convert:hover {\n",
       "      background-color: #E2EBFA;\n",
       "      box-shadow: 0px 1px 2px rgba(60, 64, 67, 0.3), 0px 1px 3px 1px rgba(60, 64, 67, 0.15);\n",
       "      fill: #174EA6;\n",
       "    }\n",
       "\n",
       "    [theme=dark] .colab-df-convert {\n",
       "      background-color: #3B4455;\n",
       "      fill: #D2E3FC;\n",
       "    }\n",
       "\n",
       "    [theme=dark] .colab-df-convert:hover {\n",
       "      background-color: #434B5C;\n",
       "      box-shadow: 0px 1px 3px 1px rgba(0, 0, 0, 0.15);\n",
       "      filter: drop-shadow(0px 1px 2px rgba(0, 0, 0, 0.3));\n",
       "      fill: #FFFFFF;\n",
       "    }\n",
       "  </style>\n",
       "\n",
       "      <script>\n",
       "        const buttonEl =\n",
       "          document.querySelector('#df-eba0753d-bae1-4438-94d2-9ba6890d58a3 button.colab-df-convert');\n",
       "        buttonEl.style.display =\n",
       "          google.colab.kernel.accessAllowed ? 'block' : 'none';\n",
       "\n",
       "        async function convertToInteractive(key) {\n",
       "          const element = document.querySelector('#df-eba0753d-bae1-4438-94d2-9ba6890d58a3');\n",
       "          const dataTable =\n",
       "            await google.colab.kernel.invokeFunction('convertToInteractive',\n",
       "                                                     [key], {});\n",
       "          if (!dataTable) return;\n",
       "\n",
       "          const docLinkHtml = 'Like what you see? Visit the ' +\n",
       "            '<a target=\"_blank\" href=https://colab.research.google.com/notebooks/data_table.ipynb>data table notebook</a>'\n",
       "            + ' to learn more about interactive tables.';\n",
       "          element.innerHTML = '';\n",
       "          dataTable['output_type'] = 'display_data';\n",
       "          await google.colab.output.renderOutput(dataTable, element);\n",
       "          const docLink = document.createElement('div');\n",
       "          docLink.innerHTML = docLinkHtml;\n",
       "          element.appendChild(docLink);\n",
       "        }\n",
       "      </script>\n",
       "    </div>\n",
       "  </div>\n",
       "  "
      ],
      "text/plain": [
       "  PassengerId  Transported\n",
       "0     0013_01         True\n",
       "1     0018_01        False\n",
       "2     0019_01         True\n",
       "3     0021_01         True\n",
       "4     0023_01         True"
      ]
     },
     "execution_count": 47,
     "metadata": {},
     "output_type": "execute_result"
    }
   ],
   "source": [
    "titanic_result[\"PassengerId\"] = test_passengerIds\n",
    "titanic_result[\"Transported\"] = lgb_predictions.astype(\"bool\")\n",
    "titanic_result.head()"
   ]
  },
  {
   "cell_type": "code",
   "execution_count": 48,
   "metadata": {
    "colab": {
     "base_uri": "https://localhost:8080/",
     "height": 297
    },
    "id": "ApgNXwWa1JCN",
    "outputId": "706d6704-cac0-4343-8873-796338c60d15"
   },
   "outputs": [
    {
     "data": {
      "text/plain": [
       "<matplotlib.axes._subplots.AxesSubplot at 0x7fb0ac225110>"
      ]
     },
     "execution_count": 48,
     "metadata": {},
     "output_type": "execute_result"
    },
    {
     "data": {
      "image/png": "[encoded data removed]",
      "text/plain": [
       "<Figure size 432x288 with 1 Axes>"
      ]
     },
     "metadata": {
      "needs_background": "light"
     },
     "output_type": "display_data"
    }
   ],
   "source": [
    "sns.countplot(x='Transported', data=titanic_result)"
   ]
  },
  {
   "cell_type": "code",
   "execution_count": 49,
   "metadata": {
    "colab": {
     "base_uri": "https://localhost:8080/"
    },
    "id": "OW5jC5cxE43N",
    "outputId": "2adf851a-b02a-4a7c-acc5-862c81c265d8"
   },
   "outputs": [
    {
     "name": "stdout",
     "output_type": "stream",
     "text": [
      "PassengerId    62.17\n",
      "Transported    62.17\n",
      "dtype: float64\n"
     ]
    }
   ],
   "source": [
    "transport = titanic_result[titanic_result[\"Transported\"] == True].count()\n",
    "true_transport = transport / len(titanic_result) *100\n",
    "print(round(true_transport,2))"
   ]
  },
  {
   "cell_type": "markdown",
   "metadata": {
    "id": "IdrFpUiOdTb9"
   },
   "source": [
    "### 3-2. House Prices\n",
    "####**Preprocess the data**"
   ]
  },
  {
   "cell_type": "code",
   "execution_count": 50,
   "metadata": {
    "id": "E9X3U_LGin3e"
   },
   "outputs": [],
   "source": [
    "h_train = pd.read_csv(\"/content/gdrive/My Drive/SemesterProject_data/houseprice/train.csv\")\n",
    "h_test = pd.read_csv(\"/content/gdrive/My Drive/SemesterProject_data/houseprice/test.csv\")"
   ]
  },
  {
   "cell_type": "code",
   "execution_count": 51,
   "metadata": {
    "id": "QJGERBnslYmh"
   },
   "outputs": [],
   "source": [
    "y = h_train[['Id', 'SalePrice']]\n",
    "h_train = h_train.drop(\"SalePrice\", axis=1)"
   ]
  },
  {
   "cell_type": "code",
   "execution_count": 52,
   "metadata": {
    "colab": {
     "base_uri": "https://localhost:8080/",
     "height": 299
    },
    "id": "_ImX74C8ohY8",
    "outputId": "a7d7c2dc-bd96-4694-fd98-4878dd76a2cc"
   },
   "outputs": [
    {
     "data": {
      "text/html": [
       "\n",
       "  <div id=\"df-cecd6d15-b47e-4225-90c4-2b32f3032c4c\">\n",
       "    <div class=\"colab-df-container\">\n",
       "      <div>\n",
       "<style scoped>\n",
       "    .dataframe tbody tr th:only-of-type {\n",
       "        vertical-align: middle;\n",
       "    }\n",
       "\n",
       "    .dataframe tbody tr th {\n",
       "        vertical-align: top;\n",
       "    }\n",
       "\n",
       "    .dataframe thead th {\n",
       "        text-align: right;\n",
       "    }\n",
       "</style>\n",
       "<table border=\"1\" class=\"dataframe\">\n",
       "  <thead>\n",
       "    <tr style=\"text-align: right;\">\n",
       "      <th></th>\n",
       "      <th>Id</th>\n",
       "      <th>MSSubClass</th>\n",
       "      <th>MSZoning</th>\n",
       "      <th>LotFrontage</th>\n",
       "      <th>LotArea</th>\n",
       "      <th>Street</th>\n",
       "      <th>LotShape</th>\n",
       "      <th>LandContour</th>\n",
       "      <th>LotConfig</th>\n",
       "      <th>LandSlope</th>\n",
       "      <th>...</th>\n",
       "      <th>OpenPorchSF</th>\n",
       "      <th>EnclosedPorch</th>\n",
       "      <th>3SsnPorch</th>\n",
       "      <th>ScreenPorch</th>\n",
       "      <th>PoolArea</th>\n",
       "      <th>MiscVal</th>\n",
       "      <th>MoSold</th>\n",
       "      <th>YrSold</th>\n",
       "      <th>SaleType</th>\n",
       "      <th>SaleCondition</th>\n",
       "    </tr>\n",
       "  </thead>\n",
       "  <tbody>\n",
       "    <tr>\n",
       "      <th>0</th>\n",
       "      <td>1</td>\n",
       "      <td>60</td>\n",
       "      <td>RL</td>\n",
       "      <td>65.0</td>\n",
       "      <td>8450</td>\n",
       "      <td>Pave</td>\n",
       "      <td>Reg</td>\n",
       "      <td>Lvl</td>\n",
       "      <td>Inside</td>\n",
       "      <td>Gtl</td>\n",
       "      <td>...</td>\n",
       "      <td>61</td>\n",
       "      <td>0</td>\n",
       "      <td>0</td>\n",
       "      <td>0</td>\n",
       "      <td>0</td>\n",
       "      <td>0</td>\n",
       "      <td>2</td>\n",
       "      <td>2008</td>\n",
       "      <td>WD</td>\n",
       "      <td>Normal</td>\n",
       "    </tr>\n",
       "    <tr>\n",
       "      <th>1</th>\n",
       "      <td>2</td>\n",
       "      <td>20</td>\n",
       "      <td>RL</td>\n",
       "      <td>80.0</td>\n",
       "      <td>9600</td>\n",
       "      <td>Pave</td>\n",
       "      <td>Reg</td>\n",
       "      <td>Lvl</td>\n",
       "      <td>FR2</td>\n",
       "      <td>Gtl</td>\n",
       "      <td>...</td>\n",
       "      <td>0</td>\n",
       "      <td>0</td>\n",
       "      <td>0</td>\n",
       "      <td>0</td>\n",
       "      <td>0</td>\n",
       "      <td>0</td>\n",
       "      <td>5</td>\n",
       "      <td>2007</td>\n",
       "      <td>WD</td>\n",
       "      <td>Normal</td>\n",
       "    </tr>\n",
       "    <tr>\n",
       "      <th>2</th>\n",
       "      <td>3</td>\n",
       "      <td>60</td>\n",
       "      <td>RL</td>\n",
       "      <td>68.0</td>\n",
       "      <td>11250</td>\n",
       "      <td>Pave</td>\n",
       "      <td>IR1</td>\n",
       "      <td>Lvl</td>\n",
       "      <td>Inside</td>\n",
       "      <td>Gtl</td>\n",
       "      <td>...</td>\n",
       "      <td>42</td>\n",
       "      <td>0</td>\n",
       "      <td>0</td>\n",
       "      <td>0</td>\n",
       "      <td>0</td>\n",
       "      <td>0</td>\n",
       "      <td>9</td>\n",
       "      <td>2008</td>\n",
       "      <td>WD</td>\n",
       "      <td>Normal</td>\n",
       "    </tr>\n",
       "    <tr>\n",
       "      <th>3</th>\n",
       "      <td>4</td>\n",
       "      <td>70</td>\n",
       "      <td>RL</td>\n",
       "      <td>60.0</td>\n",
       "      <td>9550</td>\n",
       "      <td>Pave</td>\n",
       "      <td>IR1</td>\n",
       "      <td>Lvl</td>\n",
       "      <td>Corner</td>\n",
       "      <td>Gtl</td>\n",
       "      <td>...</td>\n",
       "      <td>35</td>\n",
       "      <td>272</td>\n",
       "      <td>0</td>\n",
       "      <td>0</td>\n",
       "      <td>0</td>\n",
       "      <td>0</td>\n",
       "      <td>2</td>\n",
       "      <td>2006</td>\n",
       "      <td>WD</td>\n",
       "      <td>Abnorml</td>\n",
       "    </tr>\n",
       "    <tr>\n",
       "      <th>4</th>\n",
       "      <td>5</td>\n",
       "      <td>60</td>\n",
       "      <td>RL</td>\n",
       "      <td>84.0</td>\n",
       "      <td>14260</td>\n",
       "      <td>Pave</td>\n",
       "      <td>IR1</td>\n",
       "      <td>Lvl</td>\n",
       "      <td>FR2</td>\n",
       "      <td>Gtl</td>\n",
       "      <td>...</td>\n",
       "      <td>84</td>\n",
       "      <td>0</td>\n",
       "      <td>0</td>\n",
       "      <td>0</td>\n",
       "      <td>0</td>\n",
       "      <td>0</td>\n",
       "      <td>12</td>\n",
       "      <td>2008</td>\n",
       "      <td>WD</td>\n",
       "      <td>Normal</td>\n",
       "    </tr>\n",
       "  </tbody>\n",
       "</table>\n",
       "<p>5 rows × 74 columns</p>\n",
       "</div>\n",
       "      <button class=\"colab-df-convert\" onclick=\"convertToInteractive('df-cecd6d15-b47e-4225-90c4-2b32f3032c4c')\"\n",
       "              title=\"Convert this dataframe to an interactive table.\"\n",
       "              style=\"display:none;\">\n",
       "        \n",
       "  <svg xmlns=\"http://www.w3.org/2000/svg\" height=\"24px\"viewBox=\"0 0 24 24\"\n",
       "       width=\"24px\">\n",
       "    <path d=\"M0 0h24v24H0V0z\" fill=\"none\"/>\n",
       "    <path d=\"M18.56 5.44l.94 2.06.94-2.06 2.06-.94-2.06-.94-.94-2.06-.94 2.06-2.06.94zm-11 1L8.5 8.5l.94-2.06 2.06-.94-2.06-.94L8.5 2.5l-.94 2.06-2.06.94zm10 10l.94 2.06.94-2.06 2.06-.94-2.06-.94-.94-2.06-.94 2.06-2.06.94z\"/><path d=\"M17.41 7.96l-1.37-1.37c-.4-.4-.92-.59-1.43-.59-.52 0-1.04.2-1.43.59L10.3 9.45l-7.72 7.72c-.78.78-.78 2.05 0 2.83L4 21.41c.39.39.9.59 1.41.59.51 0 1.02-.2 1.41-.59l7.78-7.78 2.81-2.81c.8-.78.8-2.07 0-2.86zM5.41 20L4 18.59l7.72-7.72 1.47 1.35L5.41 20z\"/>\n",
       "  </svg>\n",
       "      </button>\n",
       "      \n",
       "  <style>\n",
       "    .colab-df-container {\n",
       "      display:flex;\n",
       "      flex-wrap:wrap;\n",
       "      gap: 12px;\n",
       "    }\n",
       "\n",
       "    .colab-df-convert {\n",
       "      background-color: #E8F0FE;\n",
       "      border: none;\n",
       "      border-radius: 50%;\n",
       "      cursor: pointer;\n",
       "      display: none;\n",
       "      fill: #1967D2;\n",
       "      height: 32px;\n",
       "      padding: 0 0 0 0;\n",
       "      width: 32px;\n",
       "    }\n",
       "\n",
       "    .colab-df-convert:hover {\n",
       "      background-color: #E2EBFA;\n",
       "      box-shadow: 0px 1px 2px rgba(60, 64, 67, 0.3), 0px 1px 3px 1px rgba(60, 64, 67, 0.15);\n",
       "      fill: #174EA6;\n",
       "    }\n",
       "\n",
       "    [theme=dark] .colab-df-convert {\n",
       "      background-color: #3B4455;\n",
       "      fill: #D2E3FC;\n",
       "    }\n",
       "\n",
       "    [theme=dark] .colab-df-convert:hover {\n",
       "      background-color: #434B5C;\n",
       "      box-shadow: 0px 1px 3px 1px rgba(0, 0, 0, 0.15);\n",
       "      filter: drop-shadow(0px 1px 2px rgba(0, 0, 0, 0.3));\n",
       "      fill: #FFFFFF;\n",
       "    }\n",
       "  </style>\n",
       "\n",
       "      <script>\n",
       "        const buttonEl =\n",
       "          document.querySelector('#df-cecd6d15-b47e-4225-90c4-2b32f3032c4c button.colab-df-convert');\n",
       "        buttonEl.style.display =\n",
       "          google.colab.kernel.accessAllowed ? 'block' : 'none';\n",
       "\n",
       "        async function convertToInteractive(key) {\n",
       "          const element = document.querySelector('#df-cecd6d15-b47e-4225-90c4-2b32f3032c4c');\n",
       "          const dataTable =\n",
       "            await google.colab.kernel.invokeFunction('convertToInteractive',\n",
       "                                                     [key], {});\n",
       "          if (!dataTable) return;\n",
       "\n",
       "          const docLinkHtml = 'Like what you see? Visit the ' +\n",
       "            '<a target=\"_blank\" href=https://colab.research.google.com/notebooks/data_table.ipynb>data table notebook</a>'\n",
       "            + ' to learn more about interactive tables.';\n",
       "          element.innerHTML = '';\n",
       "          dataTable['output_type'] = 'display_data';\n",
       "          await google.colab.output.renderOutput(dataTable, element);\n",
       "          const docLink = document.createElement('div');\n",
       "          docLink.innerHTML = docLinkHtml;\n",
       "          element.appendChild(docLink);\n",
       "        }\n",
       "      </script>\n",
       "    </div>\n",
       "  </div>\n",
       "  "
      ],
      "text/plain": [
       "   Id  MSSubClass MSZoning  LotFrontage  LotArea Street LotShape LandContour  \\\n",
       "0   1          60       RL         65.0     8450   Pave      Reg         Lvl   \n",
       "1   2          20       RL         80.0     9600   Pave      Reg         Lvl   \n",
       "2   3          60       RL         68.0    11250   Pave      IR1         Lvl   \n",
       "3   4          70       RL         60.0     9550   Pave      IR1         Lvl   \n",
       "4   5          60       RL         84.0    14260   Pave      IR1         Lvl   \n",
       "\n",
       "  LotConfig LandSlope  ... OpenPorchSF EnclosedPorch 3SsnPorch ScreenPorch  \\\n",
       "0    Inside       Gtl  ...          61             0         0           0   \n",
       "1       FR2       Gtl  ...           0             0         0           0   \n",
       "2    Inside       Gtl  ...          42             0         0           0   \n",
       "3    Corner       Gtl  ...          35           272         0           0   \n",
       "4       FR2       Gtl  ...          84             0         0           0   \n",
       "\n",
       "  PoolArea  MiscVal  MoSold  YrSold  SaleType SaleCondition  \n",
       "0        0        0       2    2008        WD        Normal  \n",
       "1        0        0       5    2007        WD        Normal  \n",
       "2        0        0       9    2008        WD        Normal  \n",
       "3        0        0       2    2006        WD       Abnorml  \n",
       "4        0        0      12    2008        WD        Normal  \n",
       "\n",
       "[5 rows x 74 columns]"
      ]
     },
     "execution_count": 52,
     "metadata": {},
     "output_type": "execute_result"
    }
   ],
   "source": [
    "dfs = [h_train, h_test]\n",
    "house_df = pd.concat(dfs).reset_index(drop = True)\n",
    "\n",
    "house_df.drop(['Alley','PoolQC','MiscFeature','Fence','FireplaceQu','Utilities'], axis =1, inplace = True)\n",
    "house_df.head()"
   ]
  },
  {
   "cell_type": "code",
   "execution_count": 53,
   "metadata": {
    "id": "d4G4O-MMpPK8"
   },
   "outputs": [],
   "source": [
    "imputer_cols = [\"LotFrontage\", \"GarageYrBlt\", \"BsmtFullBath\", \"TotalBsmtSF\", \"GarageCars\" ,\"GarageArea\"]\n",
    "imputer = SimpleImputer(strategy='median' )\n",
    "imputer.fit(house_df[imputer_cols])\n",
    "house_df[imputer_cols] = imputer.transform(house_df[imputer_cols])\n",
    "\n",
    "house_df['MasVnrType'].fillna(value='None',inplace=True)\n",
    "house_df['MasVnrArea'].fillna(0,inplace=True)\n",
    "house_df['BsmtCond'].fillna(value='TA',inplace=True)\n",
    "house_df['BsmtExposure'].fillna(value='No',inplace=True)\n",
    "house_df['Electrical'].fillna(value='SBrkr',inplace=True)\n",
    "house_df['BsmtFinType2'].fillna(value='Unf',inplace=True)\n",
    "house_df['GarageType'].fillna(value='Attchd',inplace=True)\n",
    "house_df['GarageFinish'].fillna(value='Unf',inplace=True)\n",
    "house_df['GarageQual'].fillna(value='TA',inplace=True)\n",
    "house_df['GarageCond'].fillna(value='TA',inplace=True)\n",
    "house_df['BsmtFinType1'].fillna(value='NO',inplace=True)\n",
    "house_df['BsmtQual'].fillna(value='No',inplace=True)\n",
    "house_df['BsmtFinSF2'].fillna(value=0,inplace=True)\n",
    "house_df['BsmtUnfSF'].fillna(value=0,inplace=True)"
   ]
  },
  {
   "cell_type": "code",
   "execution_count": 54,
   "metadata": {
    "colab": {
     "base_uri": "https://localhost:8080/"
    },
    "id": "HOtQyWo6rSRe",
    "outputId": "49322198-bce0-4bb3-f0de-282261590525"
   },
   "outputs": [
    {
     "data": {
      "text/plain": [
       "Id               0\n",
       "MSSubClass       0\n",
       "MSZoning         4\n",
       "LotFrontage      0\n",
       "LotArea          0\n",
       "                ..\n",
       "MiscVal          0\n",
       "MoSold           0\n",
       "YrSold           0\n",
       "SaleType         1\n",
       "SaleCondition    0\n",
       "Length: 74, dtype: int64"
      ]
     },
     "execution_count": 54,
     "metadata": {},
     "output_type": "execute_result"
    }
   ],
   "source": [
    "house_df.isnull().sum()"
   ]
  },
  {
   "cell_type": "code",
   "execution_count": 55,
   "metadata": {
    "id": "iZzi-eOTrfUa"
   },
   "outputs": [],
   "source": [
    "labelencoder=LabelEncoder()\n",
    "\n",
    "str_label = ['MSZoning', \"Exterior1st\",\"Exterior2nd\", \"KitchenQual\" ,\"Functional\", \"SaleType\"]\n",
    "label_cols = [\"Street\", \"LotShape\",\"LandContour\", \"LotConfig\",\"LandSlope\",\"Neighborhood\",\"Condition1\",\"Condition2\",\n",
    "              \"BldgType\", \"HouseStyle\", \"RoofStyle\", \"RoofMatl\", \"MasVnrType\", \"ExterQual\", \"ExterCond\", \"Foundation\", \"BsmtQual\", \"BsmtCond\", \"BsmtExposure\", \"BsmtFinType1\", \"BsmtFinType2\",\n",
    "              \"Heating\",\"HeatingQC\", \"CentralAir\", \"Electrical\", \"GarageType\", \"GarageFinish\", \"GarageQual\", \"GarageCond\", \"PavedDrive\", \"SaleCondition\"]\n",
    "\n",
    "for col in str_label:\n",
    "  house_df[col] = labelencoder.fit_transform(house_df[col].astype(str))\n",
    "\n",
    "for col in label_cols:\n",
    "  house_df[col] = labelencoder.fit_transform(house_df[col])"
   ]
  },
  {
   "cell_type": "code",
   "execution_count": 56,
   "metadata": {
    "id": "e-OxkhCZt2x2"
   },
   "outputs": [],
   "source": [
    "from sklearn.preprocessing import StandardScaler\n",
    "Scaler  = StandardScaler()\n",
    "\n",
    "all_scaled   = pd.DataFrame(Scaler.fit_transform(house_df))\n",
    "train_scaled = pd.DataFrame(all_scaled[:1460])\n",
    "test_scaled  = pd.DataFrame(all_scaled[1460:2920])"
   ]
  },
  {
   "cell_type": "code",
   "execution_count": 57,
   "metadata": {
    "id": "InQhQNRUueGt"
   },
   "outputs": [],
   "source": [
    "X = train_scaled\n",
    "X_train, X_test, y_train, y_test = train_test_split(X, y['SalePrice'], test_size=0.1, random_state=42)"
   ]
  },
  {
   "cell_type": "markdown",
   "metadata": {
    "id": "tbjEWDRh_LJu"
   },
   "source": [
    "1. **Linear Regression**"
   ]
  },
  {
   "cell_type": "code",
   "execution_count": 58,
   "metadata": {
    "colab": {
     "base_uri": "https://localhost:8080/"
    },
    "id": "KP_Hx-aw8xpO",
    "outputId": "1d4fc8bc-d445-42bb-ac0e-8ae5acd3868c"
   },
   "outputs": [
    {
     "name": "stdout",
     "output_type": "stream",
     "text": [
      "Training score: 0.8441793062348162\n",
      "Test Score: 0.849505007350301\n",
      "Fitness assessment: 0.849505007350301\n"
     ]
    }
   ],
   "source": [
    "from sklearn.linear_model import LinearRegression\n",
    "from sklearn.metrics import r2_score\n",
    "\n",
    "Lregres = LinearRegression()\n",
    "Lregres.fit(X_train, y_train)\n",
    "linear_pred = Lregres.predict(X_test)\n",
    "\n",
    "print (\"Training score:\",Lregres.score(X_train,y_train))\n",
    "print (\"Test Score:\",Lregres.score(X_test,y_test))\n",
    "print (\"Fitness assessment:\", r2_score(y_test,linear_pred))"
   ]
  },
  {
   "cell_type": "markdown",
   "metadata": {
    "id": "ieu-zmnxBmG5"
   },
   "source": [
    "2. **Lasso**"
   ]
  },
  {
   "cell_type": "code",
   "execution_count": 59,
   "metadata": {
    "colab": {
     "base_uri": "https://localhost:8080/"
    },
    "id": "7OW9TicBAjIq",
    "outputId": "b36d1574-ac94-4dff-ac9e-9384103d02e8"
   },
   "outputs": [
    {
     "name": "stdout",
     "output_type": "stream",
     "text": [
      "Training score: 0.8441807524227121\n",
      "Test Score: 0.8495734949417604\n",
      "Fitness assessment: 0.8495734949417604\n"
     ]
    }
   ],
   "source": [
    "from sklearn.linear_model import Lasso\n",
    "\n",
    "lasso = Lasso(alpha=0.01)\n",
    "lasso.fit(X_train, y_train)\n",
    "lasso_pred = lasso.predict(X_test)\n",
    "\n",
    "print (\"Training score:\",lasso.score(X_train,y_train))\n",
    "print(\"Test Score:\",lasso.score(X_test,y_test))\n",
    "print (\"Fitness assessment:\", r2_score(y_test,lasso_pred))"
   ]
  },
  {
   "cell_type": "markdown",
   "metadata": {
    "id": "NjLy1X8M9NlW"
   },
   "source": [
    "3. **XGBoost Regressor**"
   ]
  },
  {
   "cell_type": "code",
   "execution_count": 60,
   "metadata": {
    "colab": {
     "base_uri": "https://localhost:8080/"
    },
    "id": "UCf4H9Sn9RzV",
    "outputId": "81f50d9e-b121-4806-9b3b-13d2c4f5263e"
   },
   "outputs": [
    {
     "name": "stdout",
     "output_type": "stream",
     "text": [
      "[21:18:02] WARNING: /workspace/src/objective/regression_obj.cu:152: reg:linear is now deprecated in favor of reg:squarederror.\n",
      "Training score: 0.9878463275679412\n",
      "Test Score: 0.930856175748829\n",
      "Fitness assessment: 0.930856175748829\n"
     ]
    }
   ],
   "source": [
    "from xgboost import XGBRegressor\n",
    "\n",
    "XGB = XGBRegressor(max_depth=2,learning_rate=0.1,n_estimators=1000,reg_alpha=0.001,reg_lambda=0.000001,n_jobs=-1,min_child_weight=3)\n",
    "XGB.fit(X_train,y_train)\n",
    "xgb_pred = XGB.predict(X_test)\n",
    "\n",
    "print (\"Training score:\",XGB.score(X_train,y_train))\n",
    "print(\"Test Score:\",XGB.score(X_test,y_test))\n",
    "print (\"Fitness assessment:\", r2_score(y_test,xgb_pred))"
   ]
  },
  {
   "cell_type": "markdown",
   "metadata": {
    "id": "YI_q_B56xRrO"
   },
   "source": [
    "4. **LightGBM Regressor**"
   ]
  },
  {
   "cell_type": "code",
   "execution_count": 61,
   "metadata": {
    "colab": {
     "base_uri": "https://localhost:8080/"
    },
    "id": "PX8N6LoVujPl",
    "outputId": "d962e344-772d-45e0-d52b-354923799819"
   },
   "outputs": [
    {
     "name": "stdout",
     "output_type": "stream",
     "text": [
      "Training score: 0.9999557727264998\n",
      "Test Score: 0.9101390980189892\n",
      "Fitness assessment: 0.9101390980189892\n"
     ]
    }
   ],
   "source": [
    "from lightgbm import LGBMRegressor\n",
    "\n",
    "LGBM = LGBMRegressor(n_estimators = 1000)\n",
    "LGBM.fit(X_train,y_train)\n",
    "lgbm_pred = LGBM.predict(X_test)\n",
    "\n",
    "print (\"Training score:\",LGBM.score(X_train,y_train))\n",
    "print (\"Test Score:\",LGBM.score(X_test,y_test))\n",
    "print (\"Fitness assessment:\", r2_score(y_test,lgbm_pred))"
   ]
  },
  {
   "cell_type": "markdown",
   "metadata": {
    "id": "i4960yGj2Z7C"
   },
   "source": [
    "**Summary**\n",
    "\n",
    "\n",
    "> Of the four models, the two ensemble models showing the highest fitness score were blended by 50% each and the results were stored in the data frame.\n",
    "\n",
    "\n"
   ]
  },
  {
   "cell_type": "code",
   "execution_count": 62,
   "metadata": {
    "id": "B70YH7Fj9k_h"
   },
   "outputs": [],
   "source": [
    "xgb_predictions  = pd.DataFrame(XGB.predict(test_scaled))\n",
    "lgbm_predictions = pd.DataFrame(LGBM.predict(test_scaled))\n",
    "\n",
    "house_result=pd.DataFrame()\n",
    "house_result['Id'] = h_test['Id']\n",
    "house_result['SalePrice'] = 0.5 * xgb_predictions[0] + 0.5 * lgbm_predictions[0]"
   ]
  },
  {
   "cell_type": "code",
   "execution_count": 63,
   "metadata": {
    "colab": {
     "base_uri": "https://localhost:8080/",
     "height": 206
    },
    "id": "PfSyL-Nn9q66",
    "outputId": "dc38cb3d-6a88-4966-cd16-0739130de3b7"
   },
   "outputs": [
    {
     "data": {
      "text/html": [
       "\n",
       "  <div id=\"df-a9400fb1-ac4c-4674-92fc-a54c49d89714\">\n",
       "    <div class=\"colab-df-container\">\n",
       "      <div>\n",
       "<style scoped>\n",
       "    .dataframe tbody tr th:only-of-type {\n",
       "        vertical-align: middle;\n",
       "    }\n",
       "\n",
       "    .dataframe tbody tr th {\n",
       "        vertical-align: top;\n",
       "    }\n",
       "\n",
       "    .dataframe thead th {\n",
       "        text-align: right;\n",
       "    }\n",
       "</style>\n",
       "<table border=\"1\" class=\"dataframe\">\n",
       "  <thead>\n",
       "    <tr style=\"text-align: right;\">\n",
       "      <th></th>\n",
       "      <th>Id</th>\n",
       "      <th>SalePrice</th>\n",
       "    </tr>\n",
       "  </thead>\n",
       "  <tbody>\n",
       "    <tr>\n",
       "      <th>0</th>\n",
       "      <td>1461</td>\n",
       "      <td>122240.244945</td>\n",
       "    </tr>\n",
       "    <tr>\n",
       "      <th>1</th>\n",
       "      <td>1462</td>\n",
       "      <td>166548.633358</td>\n",
       "    </tr>\n",
       "    <tr>\n",
       "      <th>2</th>\n",
       "      <td>1463</td>\n",
       "      <td>184127.731316</td>\n",
       "    </tr>\n",
       "    <tr>\n",
       "      <th>3</th>\n",
       "      <td>1464</td>\n",
       "      <td>188924.792859</td>\n",
       "    </tr>\n",
       "    <tr>\n",
       "      <th>4</th>\n",
       "      <td>1465</td>\n",
       "      <td>187145.256465</td>\n",
       "    </tr>\n",
       "  </tbody>\n",
       "</table>\n",
       "</div>\n",
       "      <button class=\"colab-df-convert\" onclick=\"convertToInteractive('df-a9400fb1-ac4c-4674-92fc-a54c49d89714')\"\n",
       "              title=\"Convert this dataframe to an interactive table.\"\n",
       "              style=\"display:none;\">\n",
       "        \n",
       "  <svg xmlns=\"http://www.w3.org/2000/svg\" height=\"24px\"viewBox=\"0 0 24 24\"\n",
       "       width=\"24px\">\n",
       "    <path d=\"M0 0h24v24H0V0z\" fill=\"none\"/>\n",
       "    <path d=\"M18.56 5.44l.94 2.06.94-2.06 2.06-.94-2.06-.94-.94-2.06-.94 2.06-2.06.94zm-11 1L8.5 8.5l.94-2.06 2.06-.94-2.06-.94L8.5 2.5l-.94 2.06-2.06.94zm10 10l.94 2.06.94-2.06 2.06-.94-2.06-.94-.94-2.06-.94 2.06-2.06.94z\"/><path d=\"M17.41 7.96l-1.37-1.37c-.4-.4-.92-.59-1.43-.59-.52 0-1.04.2-1.43.59L10.3 9.45l-7.72 7.72c-.78.78-.78 2.05 0 2.83L4 21.41c.39.39.9.59 1.41.59.51 0 1.02-.2 1.41-.59l7.78-7.78 2.81-2.81c.8-.78.8-2.07 0-2.86zM5.41 20L4 18.59l7.72-7.72 1.47 1.35L5.41 20z\"/>\n",
       "  </svg>\n",
       "      </button>\n",
       "      \n",
       "  <style>\n",
       "    .colab-df-container {\n",
       "      display:flex;\n",
       "      flex-wrap:wrap;\n",
       "      gap: 12px;\n",
       "    }\n",
       "\n",
       "    .colab-df-convert {\n",
       "      background-color: #E8F0FE;\n",
       "      border: none;\n",
       "      border-radius: 50%;\n",
       "      cursor: pointer;\n",
       "      display: none;\n",
       "      fill: #1967D2;\n",
       "      height: 32px;\n",
       "      padding: 0 0 0 0;\n",
       "      width: 32px;\n",
       "    }\n",
       "\n",
       "    .colab-df-convert:hover {\n",
       "      background-color: #E2EBFA;\n",
       "      box-shadow: 0px 1px 2px rgba(60, 64, 67, 0.3), 0px 1px 3px 1px rgba(60, 64, 67, 0.15);\n",
       "      fill: #174EA6;\n",
       "    }\n",
       "\n",
       "    [theme=dark] .colab-df-convert {\n",
       "      background-color: #3B4455;\n",
       "      fill: #D2E3FC;\n",
       "    }\n",
       "\n",
       "    [theme=dark] .colab-df-convert:hover {\n",
       "      background-color: #434B5C;\n",
       "      box-shadow: 0px 1px 3px 1px rgba(0, 0, 0, 0.15);\n",
       "      filter: drop-shadow(0px 1px 2px rgba(0, 0, 0, 0.3));\n",
       "      fill: #FFFFFF;\n",
       "    }\n",
       "  </style>\n",
       "\n",
       "      <script>\n",
       "        const buttonEl =\n",
       "          document.querySelector('#df-a9400fb1-ac4c-4674-92fc-a54c49d89714 button.colab-df-convert');\n",
       "        buttonEl.style.display =\n",
       "          google.colab.kernel.accessAllowed ? 'block' : 'none';\n",
       "\n",
       "        async function convertToInteractive(key) {\n",
       "          const element = document.querySelector('#df-a9400fb1-ac4c-4674-92fc-a54c49d89714');\n",
       "          const dataTable =\n",
       "            await google.colab.kernel.invokeFunction('convertToInteractive',\n",
       "                                                     [key], {});\n",
       "          if (!dataTable) return;\n",
       "\n",
       "          const docLinkHtml = 'Like what you see? Visit the ' +\n",
       "            '<a target=\"_blank\" href=https://colab.research.google.com/notebooks/data_table.ipynb>data table notebook</a>'\n",
       "            + ' to learn more about interactive tables.';\n",
       "          element.innerHTML = '';\n",
       "          dataTable['output_type'] = 'display_data';\n",
       "          await google.colab.output.renderOutput(dataTable, element);\n",
       "          const docLink = document.createElement('div');\n",
       "          docLink.innerHTML = docLinkHtml;\n",
       "          element.appendChild(docLink);\n",
       "        }\n",
       "      </script>\n",
       "    </div>\n",
       "  </div>\n",
       "  "
      ],
      "text/plain": [
       "     Id      SalePrice\n",
       "0  1461  122240.244945\n",
       "1  1462  166548.633358\n",
       "2  1463  184127.731316\n",
       "3  1464  188924.792859\n",
       "4  1465  187145.256465"
      ]
     },
     "execution_count": 63,
     "metadata": {},
     "output_type": "execute_result"
    }
   ],
   "source": [
    "house_result.head()"
   ]
  },
  {
   "cell_type": "code",
   "execution_count": 64,
   "metadata": {
    "colab": {
     "base_uri": "https://localhost:8080/",
     "height": 301
    },
    "id": "tYwT4jvi1aXx",
    "outputId": "613b1cd0-1d9f-40ab-85fe-b298d6f240c1"
   },
   "outputs": [
    {
     "data": {
      "text/plain": [
       "<matplotlib.axes._subplots.AxesSubplot at 0x7fb0ac8ea510>"
      ]
     },
     "execution_count": 64,
     "metadata": {},
     "output_type": "execute_result"
    },
    {
     "data": {
      "image/png": "[encoded data removed]",
      "text/plain": [
       "<Figure size 432x288 with 1 Axes>"
      ]
     },
     "metadata": {
      "needs_background": "light"
     },
     "output_type": "display_data"
    }
   ],
   "source": [
    "sns.lineplot(x='Id', y='SalePrice', data=house_result.sample(n=30, random_state=0))"
   ]
  }
 ],
 "metadata": {
  "accelerator": "GPU",
  "colab": {
   "collapsed_sections": [
    "EP55QRbLu90H",
    "gePGRNlwwe8s",
    "5G-mV4lPw3AH",
    "efjyDVhtwsxi"
   ],
   "name": "Data Mining Milestone 1",
   "provenance": []
  },
  "kernelspec": {
   "display_name": "Python 3 (ipykernel)",
   "language": "python",
   "name": "python3"
  },
  "language_info": {
   "codemirror_mode": {
    "name": "ipython",
    "version": 3
   },
   "file_extension": ".py",
   "mimetype": "text/x-python",
   "name": "python",
   "nbconvert_exporter": "python",
   "pygments_lexer": "ipython3",
   "version": "3.9.6"
  }
 },
 "nbformat": 4,
 "nbformat_minor": 1
}
